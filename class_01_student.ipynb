{
 "cells": [
  {
   "cell_type": "markdown",
   "metadata": {},
   "source": [
    "# Class 01: Numpy 基礎操作"
   ]
  },
  {
   "cell_type": "markdown",
   "metadata": {},
   "source": [
    "首先一定要嚴正聲明  \n",
    ".py --> python檔案  \n",
    ".ipynb --> 一個可以跑python的 \"筆記\" 檔  \n",
    "**寫code一律給我用 .py 不要用 .ipynb**  \n",
    "  \n",
    "( by 資管113級 陳啟誠 學長)"
   ]
  },
  {
   "cell_type": "markdown",
   "metadata": {},
   "source": [
    "### 載入第三方模組 Numpy"
   ]
  },
  {
   "cell_type": "code",
   "execution_count": 2,
   "metadata": {},
   "outputs": [],
   "source": [
    "# 常見的用法: 把numpy縮寫成np\n",
    "import numpy as np"
   ]
  },
  {
   "cell_type": "markdown",
   "metadata": {},
   "source": [
    "當然，你想把np改成其他也行  \n",
    "自己記得就好......"
   ]
  },
  {
   "cell_type": "code",
   "execution_count": 13,
   "metadata": {},
   "outputs": [
    {
     "name": "stdout",
     "output_type": "stream",
     "text": [
      "2.1.3\n"
     ]
    }
   ],
   "source": [
    "# 確認numpy版本至少要 2.x.x\n",
    "print(np.version.version)"
   ]
  },
  {
   "cell_type": "markdown",
   "metadata": {},
   "source": [
    "### 建立array"
   ]
  },
  {
   "cell_type": "code",
   "execution_count": 149,
   "metadata": {},
   "outputs": [
    {
     "name": "stdout",
     "output_type": "stream",
     "text": [
      "[0 1 1 2 3 5]\n"
     ]
    }
   ],
   "source": [
    "nparray = np.array([0, 1, 1, 2, 3, 5])\n",
    "print(nparray)"
   ]
  },
  {
   "cell_type": "markdown",
   "metadata": {},
   "source": [
    "#### 為什麼要使用array?  \n",
    " - 使用資料的效率較高\n",
    " - 不用loop就可以對整個array進行運算(迴圈很吃資源的......)\n",
    " - 減少記憶體的使用"
   ]
  },
  {
   "cell_type": "code",
   "execution_count": 150,
   "metadata": {},
   "outputs": [
    {
     "name": "stdout",
     "output_type": "stream",
     "text": [
      "int64\n"
     ]
    }
   ],
   "source": [
    "# 確認array內的資料型態\n",
    "print(nparray.dtype)"
   ]
  },
  {
   "cell_type": "markdown",
   "metadata": {},
   "source": [
    "### 方便的偷懶用函式"
   ]
  },
  {
   "cell_type": "markdown",
   "metadata": {},
   "source": [
    "#### 1. zeros(): array裡面的值全部都是0"
   ]
  },
  {
   "cell_type": "code",
   "execution_count": 151,
   "metadata": {},
   "outputs": [
    {
     "name": "stdout",
     "output_type": "stream",
     "text": [
      "[0. 0.]\n",
      "[[0. 0. 0.]\n",
      " [0. 0. 0.]]\n"
     ]
    }
   ],
   "source": [
    "# np.zeros(data shape, data type)\n",
    "print(np.zeros(2, dtype = \"float32\"))\n",
    "print(np.zeros((2, 3)))"
   ]
  },
  {
   "cell_type": "markdown",
   "metadata": {},
   "source": [
    "#### 2. ones(): array裡面的值全部都是1"
   ]
  },
  {
   "cell_type": "code",
   "execution_count": 152,
   "metadata": {},
   "outputs": [
    {
     "name": "stdout",
     "output_type": "stream",
     "text": [
      "[[1 1]\n",
      " [1 1]\n",
      " [1 1]]\n"
     ]
    }
   ],
   "source": [
    "# np.ones(data shape, data type)\n",
    "print(np.ones((3, 2), dtype = \"int64\"))"
   ]
  },
  {
   "cell_type": "markdown",
   "metadata": {},
   "source": [
    "#### 3. full(): array裡面全部都是特定值"
   ]
  },
  {
   "cell_type": "code",
   "execution_count": 153,
   "metadata": {},
   "outputs": [
    {
     "name": "stdout",
     "output_type": "stream",
     "text": [
      "[[8 8 8 8]\n",
      " [8 8 8 8]\n",
      " [8 8 8 8]\n",
      " [8 8 8 8]]\n"
     ]
    }
   ],
   "source": [
    "# np.full(data shape, value, data type)\n",
    "print(np.full([4, 4], 8, dtype = \"int32\"))"
   ]
  },
  {
   "cell_type": "markdown",
   "metadata": {},
   "source": [
    "#### 4. arange(): 建立一個等差array"
   ]
  },
  {
   "cell_type": "code",
   "execution_count": null,
   "metadata": {},
   "outputs": [
    {
     "name": "stdout",
     "output_type": "stream",
     "text": [
      "[ 2  4  6  8 10 12 14 16 18]\n",
      "[ 3  6  9 12 15 18]\n"
     ]
    }
   ],
   "source": [
    "# np.arange(起始值, 終止值(不會印出), 步數)\n",
    "print(np.arange(2, 20, 2))"
   ]
  },
  {
   "cell_type": "markdown",
   "metadata": {},
   "source": [
    "#### 5. linespace(): 指定範圍內需要多少個資料"
   ]
  },
  {
   "cell_type": "code",
   "execution_count": 16,
   "metadata": {},
   "outputs": [
    {
     "name": "stdout",
     "output_type": "stream",
     "text": [
      "[13.5        13.87272727 14.24545455 14.61818182 14.99090909 15.36363636\n",
      " 15.73636364 16.10909091 16.48181818 16.85454545 17.22727273 17.6\n",
      " 17.97272727 18.34545455 18.71818182 19.09090909 19.46363636 19.83636364\n",
      " 20.20909091 20.58181818 20.95454545 21.32727273 21.7        22.07272727\n",
      " 22.44545455 22.81818182 23.19090909 23.56363636 23.93636364 24.30909091\n",
      " 24.68181818 25.05454545 25.42727273 25.8        26.17272727 26.54545455\n",
      " 26.91818182 27.29090909 27.66363636 28.03636364 28.40909091 28.78181818\n",
      " 29.15454545 29.52727273 29.9        30.27272727 30.64545455 31.01818182\n",
      " 31.39090909 31.76363636 32.13636364 32.50909091 32.88181818 33.25454545\n",
      " 33.62727273 34.         34.37272727 34.74545455 35.11818182 35.49090909\n",
      " 35.86363636 36.23636364 36.60909091 36.98181818 37.35454545 37.72727273\n",
      " 38.1        38.47272727 38.84545455 39.21818182 39.59090909 39.96363636\n",
      " 40.33636364 40.70909091 41.08181818 41.45454545 41.82727273 42.2\n",
      " 42.57272727 42.94545455 43.31818182 43.69090909 44.06363636 44.43636364\n",
      " 44.80909091 45.18181818 45.55454545 45.92727273 46.3        46.67272727\n",
      " 47.04545455 47.41818182 47.79090909 48.16363636 48.53636364 48.90909091\n",
      " 49.28181818 49.65454545 50.02727273 50.4       ]\n"
     ]
    }
   ],
   "source": [
    "# np.linespace(起始值, 終止值, 資料數量) (包括兩端點)\n",
    "print(np.linspace(13.5, 50.4, 100))"
   ]
  },
  {
   "cell_type": "markdown",
   "metadata": {},
   "source": [
    "#### 6. random.randint(): 指定範圍內的隨機整數"
   ]
  },
  {
   "cell_type": "code",
   "execution_count": 156,
   "metadata": {},
   "outputs": [
    {
     "name": "stdout",
     "output_type": "stream",
     "text": [
      "[[46 74 70 35 71]\n",
      " [54 44 97 29 44]\n",
      " [10 69 42 48  6]]\n",
      "[[712 947 905 845 804 126]\n",
      " [153 107 140 285 974 707]\n",
      " [162 107 605 212 982 595]\n",
      " [488 754 962 897 468 197]\n",
      " [643 100 571 984 895 676]]\n"
     ]
    }
   ],
   "source": [
    "print(np.random.randint(1, 100, [3, 5]))\n",
    "print(np.random.randint(77, 999, [5, 6]))"
   ]
  },
  {
   "cell_type": "markdown",
   "metadata": {},
   "source": [
    "### Array 的資料讀取  \n",
    "基本上跟 Python 內建的 list 操作很像"
   ]
  },
  {
   "cell_type": "code",
   "execution_count": 157,
   "metadata": {},
   "outputs": [
    {
     "name": "stdout",
     "output_type": "stream",
     "text": [
      "[ 0  1  2  3  4  5  6  7  8  9 10 11]\n"
     ]
    }
   ],
   "source": [
    "x1 = np.arange(0, 12)\n",
    "print(x1)"
   ]
  },
  {
   "cell_type": "code",
   "execution_count": 158,
   "metadata": {},
   "outputs": [
    {
     "name": "stdout",
     "output_type": "stream",
     "text": [
      "4\n"
     ]
    }
   ],
   "source": [
    "print(x1[4])"
   ]
  },
  {
   "cell_type": "code",
   "execution_count": 159,
   "metadata": {},
   "outputs": [
    {
     "name": "stdout",
     "output_type": "stream",
     "text": [
      "9\n"
     ]
    }
   ],
   "source": [
    "print(x1[-3])"
   ]
  },
  {
   "cell_type": "code",
   "execution_count": 160,
   "metadata": {},
   "outputs": [
    {
     "name": "stdout",
     "output_type": "stream",
     "text": [
      "[[ 0  1  2]\n",
      " [ 3  4  5]\n",
      " [ 6  7  8]\n",
      " [ 9 10 11]]\n"
     ]
    }
   ],
   "source": [
    "x1 = x1.reshape(4, 3)\n",
    "print(x1)"
   ]
  },
  {
   "cell_type": "code",
   "execution_count": 161,
   "metadata": {},
   "outputs": [
    {
     "name": "stdout",
     "output_type": "stream",
     "text": [
      "ndim: 2\n",
      "shape: (4, 3)\n",
      "size: 12\n",
      "dtype: int64\n",
      "itemsize: 8 bytes\n",
      "nbytes: 96 bytes\n"
     ]
    }
   ],
   "source": [
    "print(\"ndim:\", x1.ndim)\n",
    "print(\"shape:\", x1.shape)\n",
    "print(\"size:\", x1.size)\n",
    "print(\"dtype:\", x1.dtype)\n",
    "print(\"itemsize:\", x1.itemsize, \"bytes\")\n",
    "print(\"nbytes:\", x1.nbytes, \"bytes\")"
   ]
  },
  {
   "cell_type": "code",
   "execution_count": 162,
   "metadata": {},
   "outputs": [
    {
     "name": "stdout",
     "output_type": "stream",
     "text": [
      "10\n"
     ]
    }
   ],
   "source": [
    "print(x1[3, -2])"
   ]
  },
  {
   "cell_type": "code",
   "execution_count": 163,
   "metadata": {},
   "outputs": [
    {
     "name": "stdout",
     "output_type": "stream",
     "text": [
      "[[  0   1   2]\n",
      " [  3   4   5]\n",
      " [  6 100   8]\n",
      " [  9  10  11]]\n"
     ]
    }
   ],
   "source": [
    "x1[2, 1] = 100\n",
    "print(x1)"
   ]
  },
  {
   "cell_type": "markdown",
   "metadata": {},
   "source": [
    "### Array Slicing\n",
    "透過特殊的 Query 方式得到 Subarrays"
   ]
  },
  {
   "cell_type": "code",
   "execution_count": 164,
   "metadata": {},
   "outputs": [
    {
     "name": "stdout",
     "output_type": "stream",
     "text": [
      "[ 0  1  2  3  4  5  6  7  8  9 10 11]\n"
     ]
    }
   ],
   "source": [
    "x2 = np.arange(0, 12)\n",
    "print(x2)"
   ]
  },
  {
   "cell_type": "code",
   "execution_count": 165,
   "metadata": {},
   "outputs": [
    {
     "name": "stdout",
     "output_type": "stream",
     "text": [
      "[0 1 2 3 4]\n",
      "[3 4 5 6 7]\n",
      "[11  9  7  5  3  1]\n",
      "[ 6  7  8  9 10 11]\n",
      "[0 4 8]\n"
     ]
    }
   ],
   "source": [
    "#切片皆不含右端點\n",
    "print(x2[:5])\n",
    "print(x2[3:8])\n",
    "print(x2[::-2])\n",
    "print(x2[x2 > 5])\n",
    "print(x2[x2 % 4 == 0])"
   ]
  },
  {
   "cell_type": "code",
   "execution_count": 166,
   "metadata": {},
   "outputs": [
    {
     "name": "stdout",
     "output_type": "stream",
     "text": [
      "[[  0   1   2]\n",
      " [  3   4   5]\n",
      " [  6 100   8]\n",
      " [  9  10  11]]\n",
      "\n",
      "\n",
      "[[  2   1   0]\n",
      " [  5   4   3]\n",
      " [  8 100   6]]\n"
     ]
    }
   ],
   "source": [
    "print(x1)\n",
    "print(\"\\n\")\n",
    "# 取0, 1, 2列，行從後面數回來\n",
    "print(x1[:3, ::-1])"
   ]
  },
  {
   "cell_type": "code",
   "execution_count": 167,
   "metadata": {},
   "outputs": [
    {
     "name": "stdout",
     "output_type": "stream",
     "text": [
      "[[0 1]\n",
      " [3 4]]\n"
     ]
    }
   ],
   "source": [
    "x1_sub = x1[:2, :2]\n",
    "print(x1_sub)"
   ]
  },
  {
   "cell_type": "code",
   "execution_count": 168,
   "metadata": {},
   "outputs": [
    {
     "name": "stdout",
     "output_type": "stream",
     "text": [
      "[[ 99   1   2]\n",
      " [  3   4   5]\n",
      " [  6 100   8]\n",
      " [  9  10  11]]\n"
     ]
    }
   ],
   "source": [
    "# 重新賦值會改到原值(call by address)，若不想改到，則要用copy\n",
    "x1_sub[0, 0] = 99\n",
    "print(x1)"
   ]
  },
  {
   "cell_type": "markdown",
   "metadata": {},
   "source": [
    "##### Note: 這種Slicing只是「一種觀察原始array的方法」  \n",
    "要創造一個獨立的array需要使用函式 copy()"
   ]
  },
  {
   "cell_type": "code",
   "execution_count": 169,
   "metadata": {},
   "outputs": [
    {
     "name": "stdout",
     "output_type": "stream",
     "text": [
      "[[ 99   1   2]\n",
      " [  3   4   5]\n",
      " [  6 100   8]\n",
      " [  9  10  11]]\n",
      "[[0 1]\n",
      " [3 4]]\n"
     ]
    }
   ],
   "source": [
    "x1_sub = x1.copy()[:2, :2]\n",
    "x1_sub[0, 0] = 0\n",
    "print(x1)\n",
    "print(x1_sub)"
   ]
  },
  {
   "cell_type": "code",
   "execution_count": 170,
   "metadata": {},
   "outputs": [
    {
     "name": "stdout",
     "output_type": "stream",
     "text": [
      "[ 99   1   2   3   4   5   6 100   8   9  10  11]\n"
     ]
    }
   ],
   "source": [
    "x1 = x1.reshape(x1.size)\n",
    "print(x1)"
   ]
  },
  {
   "cell_type": "markdown",
   "metadata": {},
   "source": [
    "#### 小練習1"
   ]
  },
  {
   "cell_type": "markdown",
   "metadata": {},
   "source": [
    "1. 建立一個 1 ~ 20 的一維陣列"
   ]
  },
  {
   "cell_type": "code",
   "execution_count": 171,
   "metadata": {},
   "outputs": [],
   "source": [
    "Q1 = np.arange(1, 21)"
   ]
  },
  {
   "cell_type": "markdown",
   "metadata": {},
   "source": [
    "2. 印出所有「偶數index」的值"
   ]
  },
  {
   "cell_type": "code",
   "execution_count": 172,
   "metadata": {},
   "outputs": [
    {
     "name": "stdout",
     "output_type": "stream",
     "text": [
      "[ 1  3  5  7  9 11 13 15 17 19]\n"
     ]
    }
   ],
   "source": [
    "print(Q1[0::2])"
   ]
  },
  {
   "cell_type": "markdown",
   "metadata": {},
   "source": [
    "3. 印出所有「偶數」"
   ]
  },
  {
   "cell_type": "code",
   "execution_count": 173,
   "metadata": {},
   "outputs": [
    {
     "name": "stdout",
     "output_type": "stream",
     "text": [
      "[ 2  4  6  8 10 12 14 16 18 20]\n"
     ]
    }
   ],
   "source": [
    "print(Q1[Q1 % 2 == 0])"
   ]
  },
  {
   "cell_type": "markdown",
   "metadata": {},
   "source": [
    "4. 取出第 5 ~ 15 的值，且每隔2個取一次"
   ]
  },
  {
   "cell_type": "code",
   "execution_count": 174,
   "metadata": {},
   "outputs": [
    {
     "name": "stdout",
     "output_type": "stream",
     "text": [
      "[ 6  8 10 12 14 16]\n"
     ]
    }
   ],
   "source": [
    "print(Q1[5:16:2])"
   ]
  },
  {
   "cell_type": "markdown",
   "metadata": {},
   "source": [
    "5. 將陣列反轉"
   ]
  },
  {
   "cell_type": "code",
   "execution_count": 175,
   "metadata": {},
   "outputs": [
    {
     "name": "stdout",
     "output_type": "stream",
     "text": [
      "[20 19 18 17 16 15 14 13 12 11 10  9  8  7  6  5  4  3  2  1]\n"
     ]
    }
   ],
   "source": [
    "Q1 = Q1[::-1]\n",
    "print(Q1)"
   ]
  },
  {
   "cell_type": "markdown",
   "metadata": {},
   "source": [
    "### Array的合併與分割"
   ]
  },
  {
   "cell_type": "code",
   "execution_count": 17,
   "metadata": {},
   "outputs": [],
   "source": [
    "x = np.array([1, 2, 3])\n",
    "y = np.array([3, 2, 1])"
   ]
  },
  {
   "cell_type": "code",
   "execution_count": 18,
   "metadata": {},
   "outputs": [
    {
     "name": "stdout",
     "output_type": "stream",
     "text": [
      "[1 2 3 3 2 1]\n",
      "[[1 3]\n",
      " [2 2]\n",
      " [3 1]]\n"
     ]
    }
   ],
   "source": [
    "print(np.concatenate([x, y]))\n",
    "print(np.concatenate([x.reshape(3, 1), y.reshape(3, 1)], axis = 1))"
   ]
  },
  {
   "cell_type": "code",
   "execution_count": 178,
   "metadata": {},
   "outputs": [
    {
     "name": "stdout",
     "output_type": "stream",
     "text": [
      "[[1 2 3]\n",
      " [3 2 1]]\n"
     ]
    }
   ],
   "source": [
    "# vertical stack\n",
    "x3 = np.vstack([x, y])\n",
    "print(x3)"
   ]
  },
  {
   "cell_type": "code",
   "execution_count": 179,
   "metadata": {},
   "outputs": [
    {
     "name": "stdout",
     "output_type": "stream",
     "text": [
      "[[ 1  2  3 99]\n",
      " [ 3  2  1 99]]\n"
     ]
    }
   ],
   "source": [
    "# horizontal stack\n",
    "temp = np.array([99, 99]).reshape(2, 1)\n",
    "x3 = np.hstack([x3, temp])\n",
    "print(x3)"
   ]
  },
  {
   "cell_type": "code",
   "execution_count": 180,
   "metadata": {},
   "outputs": [
    {
     "name": "stdout",
     "output_type": "stream",
     "text": [
      "[ 99   1   2   3   4   5   6 100   8   9  10  11]\n",
      "[99  1  2]\n",
      "[  3   4   5   6 100]\n",
      "[ 8  9 10 11]\n"
     ]
    }
   ],
   "source": [
    "print(x1)\n",
    "# np.split(array name, 2nd array's start element, 3rd array's start element...)\n",
    "s1, s2, s3 = np.split(x1, [3, 8])\n",
    "print(s1)\n",
    "print(s2)\n",
    "print(s3)"
   ]
  },
  {
   "cell_type": "code",
   "execution_count": 181,
   "metadata": {},
   "outputs": [
    {
     "name": "stdout",
     "output_type": "stream",
     "text": [
      "[[ 1  2  3 99]]\n",
      "[[ 3  2  1 99]]\n",
      "[[1 2]\n",
      " [3 2]]\n",
      "[[ 3 99]\n",
      " [ 1 99]]\n"
     ]
    }
   ],
   "source": [
    "upper, lower = np.vsplit(x3, [1])\n",
    "print(upper)\n",
    "print(lower)\n",
    "left, right = np.hsplit(x3, [2])\n",
    "print(left)\n",
    "print(right)"
   ]
  },
  {
   "cell_type": "code",
   "execution_count": 182,
   "metadata": {},
   "outputs": [
    {
     "name": "stdout",
     "output_type": "stream",
     "text": [
      "[[ 1  2  3 99]\n",
      " [ 3  2  1 99]]\n",
      "[[ 1  3]\n",
      " [ 2  2]\n",
      " [ 3  1]\n",
      " [99 99]]\n",
      "[[ 1  3]\n",
      " [ 2  2]\n",
      " [ 3  1]\n",
      " [99 99]]\n"
     ]
    }
   ],
   "source": [
    "print(x3)\n",
    "print(x3.T)\n",
    "print(x3.transpose())"
   ]
  },
  {
   "cell_type": "markdown",
   "metadata": {},
   "source": [
    "### Numpy array的運算"
   ]
  },
  {
   "cell_type": "code",
   "execution_count": 183,
   "metadata": {},
   "outputs": [],
   "source": [
    "x = np.arange(4)"
   ]
  },
  {
   "cell_type": "code",
   "execution_count": 184,
   "metadata": {},
   "outputs": [
    {
     "name": "stdout",
     "output_type": "stream",
     "text": [
      "x =  [0 1 2 3]\n",
      "x + 5 = [5 6 7 8]\n",
      "x -  5 = [-5 -4 -3 -2]\n",
      "x * 2 = [0 2 4 6]\n",
      "x / 2 = [0.  0.5 1.  1.5]\n",
      "x // 2 = [0 0 1 1]\n"
     ]
    }
   ],
   "source": [
    "print(\"x = \", x)\n",
    "print(\"x + 5 =\", x + 5)\n",
    "print(\"x -  5 =\", x - 5)\n",
    "print(\"x * 2 =\", x * 2)\n",
    "print(\"x / 2 =\", x / 2)\n",
    "print( \"x // 2 =\", x // 2)"
   ]
  },
  {
   "cell_type": "markdown",
   "metadata": {},
   "source": [
    "還有下面的函式可以使用:  \n",
    "- np.sum(): 求出array內值的總和\n",
    "- np.min(): 找出最小值\n",
    "- np.max(): 找出最大值  \n",
    "  \n",
    "以及參數 axis:\n",
    "- axis = 0: 以每個row進行計算\n",
    "- axis = 1: 以每個column進行計算"
   ]
  },
  {
   "cell_type": "markdown",
   "metadata": {},
   "source": [
    "#### 小練習2"
   ]
  },
  {
   "cell_type": "code",
   "execution_count": 185,
   "metadata": {},
   "outputs": [],
   "source": [
    "y = np.arange(0, 24)"
   ]
  },
  {
   "cell_type": "markdown",
   "metadata": {},
   "source": [
    "1. 將 y 重塑為 4 x 6 的陣列"
   ]
  },
  {
   "cell_type": "code",
   "execution_count": 186,
   "metadata": {},
   "outputs": [
    {
     "name": "stdout",
     "output_type": "stream",
     "text": [
      "[[ 0  1  2  3  4  5]\n",
      " [ 6  7  8  9 10 11]\n",
      " [12 13 14 15 16 17]\n",
      " [18 19 20 21 22 23]]\n"
     ]
    }
   ],
   "source": [
    "y = y.reshape(4, 6)\n",
    "print(y.reshape(4, 6))"
   ]
  },
  {
   "cell_type": "markdown",
   "metadata": {},
   "source": [
    "2. 將 y 重塑為 2 x 4 x 3 的陣列"
   ]
  },
  {
   "cell_type": "code",
   "execution_count": 187,
   "metadata": {},
   "outputs": [
    {
     "name": "stdout",
     "output_type": "stream",
     "text": [
      "[[[ 0  1  2]\n",
      "  [ 3  4  5]\n",
      "  [ 6  7  8]\n",
      "  [ 9 10 11]]\n",
      "\n",
      " [[12 13 14]\n",
      "  [15 16 17]\n",
      "  [18 19 20]\n",
      "  [21 22 23]]]\n"
     ]
    }
   ],
   "source": [
    "# 2個2維陣列，4列3行\n",
    "y = y.reshape(2, 4, 3)\n",
    "print(y.reshape(2, 4, 3))"
   ]
  },
  {
   "cell_type": "markdown",
   "metadata": {},
   "source": [
    "3. 透過運算，讓前一題陣列中的每一個值都變成原本的10倍"
   ]
  },
  {
   "cell_type": "code",
   "execution_count": 188,
   "metadata": {},
   "outputs": [
    {
     "name": "stdout",
     "output_type": "stream",
     "text": [
      "[[[  0  10  20]\n",
      "  [ 30  40  50]\n",
      "  [ 60  70  80]\n",
      "  [ 90 100 110]]\n",
      "\n",
      " [[120 130 140]\n",
      "  [150 160 170]\n",
      "  [180 190 200]\n",
      "  [210 220 230]]]\n"
     ]
    }
   ],
   "source": [
    "y *= 10\n",
    "print(y)"
   ]
  },
  {
   "cell_type": "markdown",
   "metadata": {},
   "source": [
    "### Broadcasting: 當 array 大小不同時"
   ]
  },
  {
   "cell_type": "code",
   "execution_count": 189,
   "metadata": {},
   "outputs": [
    {
     "name": "stdout",
     "output_type": "stream",
     "text": [
      "[1 2 3]\n",
      "[[1. 1. 1.]\n",
      " [1. 1. 1.]\n",
      " [1. 1. 1.]]\n"
     ]
    }
   ],
   "source": [
    "# 當兩個array的列與行不完全相同時-->broadcasting\n",
    "# broadcasting: 若兩個array的行or列任一者相同時即適用，缺失元素的array會複製自己，最後進行運算\n",
    "a = np.array([1, 2, 3])\n",
    "m = np.ones((3, 3))\n",
    "print(a)\n",
    "print(m)"
   ]
  },
  {
   "cell_type": "code",
   "execution_count": 190,
   "metadata": {},
   "outputs": [
    {
     "name": "stdout",
     "output_type": "stream",
     "text": [
      "[[2. 3. 4.]\n",
      " [2. 3. 4.]\n",
      " [2. 3. 4.]]\n"
     ]
    }
   ],
   "source": [
    "print(a + m)"
   ]
  },
  {
   "cell_type": "code",
   "execution_count": 191,
   "metadata": {},
   "outputs": [
    {
     "name": "stdout",
     "output_type": "stream",
     "text": [
      "[[0]\n",
      " [1]\n",
      " [2]]\n"
     ]
    }
   ],
   "source": [
    "n = np.arange(3).reshape(3, 1)\n",
    "print(n)"
   ]
  },
  {
   "cell_type": "code",
   "execution_count": 192,
   "metadata": {},
   "outputs": [
    {
     "name": "stdout",
     "output_type": "stream",
     "text": [
      "[1 2 3]\n",
      "[[0]\n",
      " [1]\n",
      " [2]]\n",
      "[[1 2 3]\n",
      " [2 3 4]\n",
      " [3 4 5]]\n"
     ]
    }
   ],
   "source": [
    "print(a)\n",
    "print(n)\n",
    "print(a + n)"
   ]
  },
  {
   "cell_type": "markdown",
   "metadata": {},
   "source": [
    "#### 小練習3"
   ]
  },
  {
   "cell_type": "markdown",
   "metadata": {},
   "source": [
    "1. 建立一個 3 x 4 的隨機整數陣列 x (範圍 1 ~ 10)"
   ]
  },
  {
   "cell_type": "code",
   "execution_count": 193,
   "metadata": {},
   "outputs": [
    {
     "name": "stdout",
     "output_type": "stream",
     "text": [
      "[[5 5 1 3]\n",
      " [5 6 9 8]\n",
      " [6 7 3 5]]\n"
     ]
    }
   ],
   "source": [
    "x = np.array(np.random.randint(1, 11, [3, 4]))\n",
    "print(x)"
   ]
  },
  {
   "cell_type": "markdown",
   "metadata": {},
   "source": [
    "2. 建立一個值為 [10, 20, 30, 40] 的陣列 y"
   ]
  },
  {
   "cell_type": "code",
   "execution_count": 194,
   "metadata": {},
   "outputs": [
    {
     "name": "stdout",
     "output_type": "stream",
     "text": [
      "[10 20 30 40]\n"
     ]
    }
   ],
   "source": [
    "y = np.arange(10, 50, 10)\n",
    "print(y)"
   ]
  },
  {
   "cell_type": "markdown",
   "metadata": {},
   "source": [
    "3. x, y 相加"
   ]
  },
  {
   "cell_type": "code",
   "execution_count": 195,
   "metadata": {},
   "outputs": [
    {
     "name": "stdout",
     "output_type": "stream",
     "text": [
      "[[15 25 31 43]\n",
      " [15 26 39 48]\n",
      " [16 27 33 45]]\n"
     ]
    }
   ],
   "source": [
    "print(x + y)"
   ]
  },
  {
   "cell_type": "markdown",
   "metadata": {},
   "source": [
    "4. 創建一個(3, 1)的隨機整數陣列 z，並與 x 相乘 (範圍 1 ~ 10)"
   ]
  },
  {
   "cell_type": "code",
   "execution_count": 196,
   "metadata": {},
   "outputs": [
    {
     "name": "stdout",
     "output_type": "stream",
     "text": [
      "[[10]\n",
      " [ 8]\n",
      " [10]]\n",
      "[[50 50 10 30]\n",
      " [40 48 72 64]\n",
      " [60 70 30 50]]\n"
     ]
    }
   ],
   "source": [
    "z = np.array(np.random.randint(1, 11, [3, 1]))\n",
    "print(z)\n",
    "print(x * z)"
   ]
  },
  {
   "cell_type": "markdown",
   "metadata": {},
   "source": [
    "5. 計算 z 每個 row 的總和"
   ]
  },
  {
   "cell_type": "code",
   "execution_count": 197,
   "metadata": {},
   "outputs": [
    {
     "name": "stdout",
     "output_type": "stream",
     "text": [
      "[10  8 10]\n"
     ]
    }
   ],
   "source": [
    "print(np.sum(z, axis = 1))"
   ]
  },
  {
   "cell_type": "markdown",
   "metadata": {},
   "source": [
    "6. 取 z 每個 column 的最小值"
   ]
  },
  {
   "cell_type": "code",
   "execution_count": 198,
   "metadata": {},
   "outputs": [
    {
     "name": "stdout",
     "output_type": "stream",
     "text": [
      "[10  8 10]\n"
     ]
    }
   ],
   "source": [
    "print(np.min(z, axis = 1))"
   ]
  },
  {
   "cell_type": "markdown",
   "metadata": {},
   "source": [
    "#### Advance 1: Slicing\n",
    "現在有一個 5 x 7 的陣列 x ，初始設定裡面的值皆為0  \n",
    "現在希望你透過上面學到的 Slicing，將x的前4個row與前6個column改成像這樣:  \n",
    "$$\n",
    "\\begin{bmatrix}\n",
    "0 & 1 & 2 & 2 & 2 & 2 \\\\\n",
    "0 & 1 & 2 & 2 & 2 & 2 \\\\\n",
    "3 & 4 & 3 & 4 & 5 & 5 \\\\\n",
    "3 & 4 & 3 & 4 & 5 & 5 \\\\\n",
    "\\end{bmatrix}\n",
    "$$\n",
    "  \n",
    "但是，這裡有幾個限制條件:  \n",
    "- 只能動到前4個row與前6個column，其他地方在過程中不能被更動到\n",
    "- 不能直接用「選定特定位置並賦值」的方式\n",
    "- 在6個步驟中完成(一個動作一行程式)"
   ]
  },
  {
   "cell_type": "code",
   "execution_count": 199,
   "metadata": {},
   "outputs": [
    {
     "name": "stdout",
     "output_type": "stream",
     "text": [
      "Before:\n",
      "[[0. 0. 0. 0. 0. 0. 0.]\n",
      " [0. 0. 0. 0. 0. 0. 0.]\n",
      " [0. 0. 0. 0. 0. 0. 0.]\n",
      " [0. 0. 0. 0. 0. 0. 0.]\n",
      " [0. 0. 0. 0. 0. 0. 0.]]\n",
      "\n",
      "After:\n",
      "[[0. 1. 2. 2. 2. 2. 0.]\n",
      " [0. 1. 2. 2. 2. 2. 0.]\n",
      " [3. 4. 3. 4. 5. 5. 0.]\n",
      " [3. 4. 3. 4. 5. 5. 0.]\n",
      " [0. 0. 0. 0. 0. 0. 0.]]\n",
      "\n",
      "Correct:  True\n"
     ]
    }
   ],
   "source": [
    "x = np.zeros([5, 7])\n",
    "print(\"Before:\")\n",
    "print(x)\n",
    "##########################################################################\n",
    "# 你的code寫在這裡\n",
    "x[:2, 1] = 1\n",
    "x[:2, 2:6] = 2\n",
    "x[2:4, :4:2] = 3\n",
    "x[2:4, 1:5:2] = 4\n",
    "x[2:4, 4:6] = 5\n",
    "##########################################################################\n",
    "print(\"\\nAfter:\")\n",
    "print(x)\n",
    "expected = [\n",
    "    [0, 1, 2, 2, 2, 2, 0],\n",
    "    [0, 1, 2, 2, 2, 2, 0],\n",
    "    [3, 4, 3, 4, 5, 5, 0],\n",
    "    [3, 4, 3, 4, 5, 5, 0],\n",
    "    [0, 0, 0, 0, 0, 0, 0],\n",
    "]\n",
    "print('\\nCorrect: ', x.tolist() == expected)"
   ]
  },
  {
   "cell_type": "code",
   "execution_count": 200,
   "metadata": {},
   "outputs": [
    {
     "name": "stdout",
     "output_type": "stream",
     "text": [
      "Before:\n",
      "[[0. 0. 0. 0. 0. 0. 0.]\n",
      " [0. 0. 0. 0. 0. 0. 0.]\n",
      " [0. 0. 0. 0. 0. 0. 0.]\n",
      " [0. 0. 0. 0. 0. 0. 0.]\n",
      " [0. 0. 0. 0. 0. 0. 0.]]\n",
      "\n",
      "After:\n",
      "[[0. 1. 2. 2. 2. 2. 0.]\n",
      " [0. 1. 2. 2. 2. 2. 0.]\n",
      " [3. 4. 3. 4. 5. 5. 0.]\n",
      " [3. 4. 3. 4. 5. 5. 0.]\n",
      " [0. 0. 0. 0. 0. 0. 0.]]\n",
      "\n",
      "Correct:  True\n"
     ]
    }
   ],
   "source": [
    "x = np.zeros([5, 7])\n",
    "print(\"Before:\")\n",
    "print(x)\n",
    "##########################################################################\n",
    "# 你的code寫在這裡\n",
    "x += [[0, 1, 2, 2, 2, 2, 0],\n",
    "     [0, 1, 2, 2, 2, 2, 0],\n",
    "     [3, 4, 3, 4, 5, 5, 0],\n",
    "     [3, 4, 3, 4, 5, 5, 0],\n",
    "     [0, 0, 0, 0, 0, 0, 0]]\n",
    "##########################################################################\n",
    "print(\"\\nAfter:\")\n",
    "print(x)\n",
    "expected = [\n",
    "    [0, 1, 2, 2, 2, 2, 0],\n",
    "    [0, 1, 2, 2, 2, 2, 0],\n",
    "    [3, 4, 3, 4, 5, 5, 0],\n",
    "    [3, 4, 3, 4, 5, 5, 0],\n",
    "    [0, 0, 0, 0, 0, 0, 0],\n",
    "]\n",
    "print('\\nCorrect: ', x.tolist() == expected)"
   ]
  },
  {
   "cell_type": "markdown",
   "metadata": {},
   "source": [
    "### Advance 2: 分割與合併\n",
    "現在有一個 0 ~ 23 的一維 array，請試著將 array 變成下面的樣子:  \n",
    "$$\n",
    "\\begin{bmatrix}\n",
    "0 & 1 & 2 & 3 & 12 & 13 & 14 & 15\\\\\n",
    "4 & 5 & 6 & 7 & 16 & 17 & 18 & 19 \\\\\n",
    "8 & 9 & 10 & 11 & 20 & 21 & 22 & 23 \\\\\n",
    "\\end{bmatrix}\n",
    "$$  \n",
    "  \n",
    "  \n",
    "提示: 先把原本的 y 變成兩個2維的陣列吧"
   ]
  },
  {
   "cell_type": "code",
   "execution_count": 201,
   "metadata": {},
   "outputs": [
    {
     "name": "stdout",
     "output_type": "stream",
     "text": [
      "Before:\n",
      "[ 0  1  2  3  4  5  6  7  8  9 10 11 12 13 14 15 16 17 18 19 20 21 22 23]\n",
      "\n",
      "After:\n",
      "[[ 0  1  2  3 12 13 14 15]\n",
      " [ 4  5  6  7 16 17 18 19]\n",
      " [ 8  9 10 11 20 21 22 23]]\n",
      "\n",
      "Correct: True\n"
     ]
    }
   ],
   "source": [
    "y = np.arange(24)\n",
    "print(\"Before:\")\n",
    "print(y)\n",
    "##########################################################################\n",
    "# 你的code寫在這裡\n",
    "y = y.reshape(6, 4)\n",
    "upper, lower = np.vsplit(y, [3])\n",
    "y = np.concatenate([upper, lower], axis = 1)\n",
    "##########################################################################\n",
    "print(\"\\nAfter:\")\n",
    "print(y)\n",
    "\n",
    "expected = [\n",
    "    [0, 1,  2,  3, 12, 13, 14, 15],\n",
    "    [4, 5,  6,  7, 16, 17, 18, 19],\n",
    "    [8, 9, 10, 11, 20, 21, 22, 23]]\n",
    "print('\\nCorrect:', y.tolist() == expected)"
   ]
  }
 ],
 "metadata": {
  "kernelspec": {
   "display_name": "base",
   "language": "python",
   "name": "python3"
  },
  "language_info": {
   "codemirror_mode": {
    "name": "ipython",
    "version": 3
   },
   "file_extension": ".py",
   "mimetype": "text/x-python",
   "name": "python",
   "nbconvert_exporter": "python",
   "pygments_lexer": "ipython3",
   "version": "3.12.3"
  }
 },
 "nbformat": 4,
 "nbformat_minor": 2
}
