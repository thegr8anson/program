{
 "cells": [
  {
   "cell_type": "markdown",
   "metadata": {},
   "source": [
    "Enter a line of text (press Enter on an empty line to stop):\n",
    "\n",
    "Hello, World!\n",
    "\n",
    "Enter a line of text (press Enter on an empty line to stop):\n",
    "\n",
    "Programming in Python is fun.\n",
    "\n",
    "Enter a line of text (press Enter on an empty line to stop):\n",
    "\n",
    "// user presses Enter immediately here, no text typed\n",
    "\n",
    "--- Summary Report ---\n",
    "\n",
    "Line 1:\n",
    "\n",
    "Total characters: 13\n",
    "\n",
    "Total vowels: 3\n",
    "\n",
    "Line 2:\n",
    "\n",
    "Total characters: 29\n",
    "\n",
    "Total vowels: 8\n",
    "\n",
    "Highest number of vowels in a single line: 8\n",
    "\n",
    "Thank you for using the Text Analysis Tool!"
   ]
  },
  {
   "cell_type": "code",
   "execution_count": 4,
   "metadata": {},
   "outputs": [
    {
     "name": "stdout",
     "output_type": "stream",
     "text": [
      "    --- Summary Report ---\n",
      "Line 1:\n",
      "Total characters: 13\n",
      "Total vowels: 3\n",
      "\n",
      "Line 2:\n",
      "Total characters: 29\n",
      "Total vowels: 7\n",
      "\n",
      "Highest number of vowels in a single line: 7\n",
      "Thank you for using the Text Analysis Tool!\n"
     ]
    }
   ],
   "source": [
    "char = []\n",
    "vowel_num = []\n",
    "flag = True\n",
    "while(flag):\n",
    "    vowel = 0\n",
    "    words = input(\"Enter a line of text (press Enter on an empty line to stop):\")\n",
    "    if (words == ''):\n",
    "        flag = False\n",
    "    for element in words:\n",
    "        if (element == 'A' or element == 'E' or element == 'I' or element == 'O' or element == 'U'):\n",
    "            vowel += 1\n",
    "        elif (element == 'a' or element == 'e' or element == 'i' or element == 'o' or element == 'u'):\n",
    "            vowel += 1\n",
    "    vowel_num.append(vowel)\n",
    "    char.append(len(words))\n",
    "print(\"    --- Summary Report ---\")\n",
    "for i in range (1, len(vowel_num)):\n",
    "    print(f\"Line {i}:\")\n",
    "    print(f\"Total characters: {char[i - 1]}\")\n",
    "    print(f\"Total vowels: {vowel_num[i -1]}\\n\")\n",
    "print(f\"Highest number of vowels in a single line: {max(vowel_num)}\")\n",
    "print(\"Thank you for using the Text Analysis Tool!\")\n"
   ]
  }
 ],
 "metadata": {
  "kernelspec": {
   "display_name": "base",
   "language": "python",
   "name": "python3"
  },
  "language_info": {
   "codemirror_mode": {
    "name": "ipython",
    "version": 3
   },
   "file_extension": ".py",
   "mimetype": "text/x-python",
   "name": "python",
   "nbconvert_exporter": "python",
   "pygments_lexer": "ipython3",
   "version": "3.12.3"
  }
 },
 "nbformat": 4,
 "nbformat_minor": 2
}
