{
 "cells": [
  {
   "cell_type": "markdown",
   "metadata": {},
   "source": [
    "# MIS132 程式設計實習 - Lab 03"
   ]
  },
  {
   "cell_type": "markdown",
   "metadata": {},
   "source": [
    "### Outline this week\n",
    "- Function\n",
    "  - Function definition\n",
    "  - Built-in functions\n",
    "  - Difference between **argument** and **parameter**\n",
    "  - 使用pass\n",
    " - Class\n",
    "   - what is class? what is object?\n",
    "   - 如何定義class\n",
    "   - class的屬性和方法\n",
    "   - why class?\n",
    "- Iteration\n",
    "  - for loop\n",
    "  - while loop\n",
    "  - do-while loop\n",
    "- Exercise"
   ]
  },
  {
   "cell_type": "markdown",
   "metadata": {},
   "source": [
    "### Function 函式\n",
    "function是一組可以被重複使用的程式碼區塊，能夠執行特定的任務。使用functiond可以:\n",
    "\n",
    "- 提高程式的可讀性與結構化\n",
    "- 避免重複撰寫相同程式碼\n",
    "- 便於除錯與維護\n",
    "\n",
    "#### Function definition\n",
    "\n",
    "在 C 中宣告 function 的語法是\n",
    "\n",
    "```C\n",
    "int square(int x) {\n",
    "\treturn(x * x);\n",
    "}\n",
    "```\n",
    "\n",
    "而在 Python 中宣告 function 的語法是\n",
    "\n",
    "```python\n",
    "def square(x):\n",
    "\treturn x * x\n",
    "```"
   ]
  },
  {
   "cell_type": "markdown",
   "metadata": {},
   "source": [
    "範例 1：最簡單的function"
   ]
  },
  {
   "cell_type": "code",
   "execution_count": null,
   "metadata": {},
   "outputs": [
    {
     "name": "stdout",
     "output_type": "stream",
     "text": [
      "Hello, world!\n"
     ]
    }
   ],
   "source": [
    "def say_hello():\n",
    "    print(\"Hello, world!\")\n",
    "\n",
    "# 呼叫函式\n",
    "say_hello()"
   ]
  },
  {
   "cell_type": "markdown",
   "metadata": {},
   "source": [
    "範例 2：帶有參數的function"
   ]
  },
  {
   "cell_type": "code",
   "execution_count": null,
   "metadata": {},
   "outputs": [
    {
     "name": "stdout",
     "output_type": "stream",
     "text": [
      "Hello, Alice!\n"
     ]
    }
   ],
   "source": [
    "def greet(name):\n",
    "    print(f\"Hello, {name}!\")\n",
    "\n",
    "greet(\"Alice\")"
   ]
  },
  {
   "cell_type": "markdown",
   "metadata": {},
   "source": [
    "範例 3：帶有回傳值的function"
   ]
  },
  {
   "cell_type": "code",
   "execution_count": null,
   "metadata": {},
   "outputs": [
    {
     "name": "stdout",
     "output_type": "stream",
     "text": [
      "8\n"
     ]
    }
   ],
   "source": [
    "def add(a, b):\n",
    "    return a + b\n",
    "\n",
    "result = add(3, 5)\n",
    "print(result)"
   ]
  },
  {
   "cell_type": "code",
   "execution_count": null,
   "metadata": {},
   "outputs": [
    {
     "name": "stdout",
     "output_type": "stream",
     "text": [
      "(2, 3, 4)\n"
     ]
    }
   ],
   "source": [
    "## function 回傳多個結果\n",
    "def test(x, y, z):\n",
    "    return x+1, y+1, z+1\n",
    "\n",
    "a = test(1, 2, 3)\n",
    "print(a) "
   ]
  },
  {
   "cell_type": "markdown",
   "metadata": {},
   "source": [
    "範例4: 空function\n",
    "\n",
    "如果想定義一個什麼事都不做的空函式，可以使用 pass"
   ]
  },
  {
   "cell_type": "code",
   "execution_count": 11,
   "metadata": {},
   "outputs": [
    {
     "name": "stdout",
     "output_type": "stream",
     "text": [
      "5\n"
     ]
    }
   ],
   "source": [
    "a = int(input('>'))\n",
    "if a>10:\n",
    "    pass       # 如果輸入的數字大於 10，不做任何事情\n",
    "else:\n",
    "    print(a)"
   ]
  },
  {
   "cell_type": "markdown",
   "metadata": {},
   "source": [
    "#### Built-in funcitons\n",
    "Python 中有些 Build-in 的 function，print()就是我們學的第一個built-in function，其他常用像是\n",
    "\n",
    "> e.g. ```int(), float(), max(), type(), raw_input()```\n",
    "\n",
    "而你也可以建立你自己需要的 function"
   ]
  },
  {
   "cell_type": "markdown",
   "metadata": {},
   "source": [
    "#### Random numbers and Math functions"
   ]
  },
  {
   "cell_type": "code",
   "execution_count": null,
   "metadata": {},
   "outputs": [
    {
     "name": "stdout",
     "output_type": "stream",
     "text": [
      "0.09319198272327411\n",
      "0.6470592451902543\n",
      "0.6714943387609782\n",
      "0.8123616728555407\n",
      "0.9196580729605326\n",
      "0.14224601670584203\n",
      "0.6845572825704377\n",
      "0.9608295006978161\n",
      "0.5867127722685206\n",
      "0.6072840276376558\n",
      "-----------\n",
      "3.141592653589793\n",
      "1.4142135623730951\n"
     ]
    }
   ],
   "source": [
    "## random module provide functions\n",
    "import random\n",
    "for i in range(10):\n",
    "    x = random.random()\n",
    "    print(x)\n",
    "\n",
    "print(\"-----------\")\n",
    "\n",
    "## math module provide functions\n",
    "import math\n",
    "print(math.pi) # math 模組裡有 pi 的定義\n",
    "print(math.sqrt(2)) # math 模組裡有 sqrt 的定義"
   ]
  },
  {
   "cell_type": "markdown",
   "metadata": {},
   "source": [
    "#### 參數 (Parameter) and 引數 (Argument)\n",
    ">A **parameter** is the variable which is part of the method’s signature (method declaration).  \n",
    ">簡單理解就是 建立函式時，預設帶入的變數名稱\n",
    ">  \n",
    ">An **argument** is an expression used when calling the method.  \n",
    ">呼叫函式時，傳給該函式的參數的值\n",
    "\n",
    "```python\n",
    "def greet(lang):\n",
    "#         ^^^^ this is a parameter (actual parameter)\n",
    "\tif(lang == \"es\"):\n",
    "    \tprint(\"Hola\")\n",
    "    elif(lang == \"fr\"):\n",
    "    \tprint(\"Bonjour\")\n",
    "    else:\n",
    "    \tprint(\"Hello\")\n",
    "      \n",
    "greet(lang = \"fr\")\n",
    "#            ^^^^ this is an argument (formal argument)\n",
    "```"
   ]
  },
  {
   "cell_type": "markdown",
   "metadata": {},
   "source": [
    "#### function的參數與預設值"
   ]
  },
  {
   "cell_type": "markdown",
   "metadata": {},
   "source": [
    "(1) default parameter"
   ]
  },
  {
   "cell_type": "code",
   "execution_count": 5,
   "metadata": {},
   "outputs": [
    {
     "name": "stdout",
     "output_type": "stream",
     "text": [
      "Hello, Guest!\n",
      "Hello, Bob!\n"
     ]
    }
   ],
   "source": [
    "# 如果函式的某些參數有常用的預設值，可以這樣設定：\n",
    "\n",
    "def greet(name=\"Guest\"):\n",
    "    print(f\"Hello, {name}!\")\n",
    "\n",
    "greet()      # 輸出：Hello, Guest!\n",
    "greet(\"Bob\") # 輸出：Hello, Bob!"
   ]
  },
  {
   "cell_type": "markdown",
   "metadata": {},
   "source": [
    "(2) 帶有key值的parameter"
   ]
  },
  {
   "cell_type": "code",
   "execution_count": 9,
   "metadata": {},
   "outputs": [
    {
     "name": "stdout",
     "output_type": "stream",
     "text": [
      "My name is Charlie and I am 25 years old.\n"
     ]
    }
   ],
   "source": [
    "# 使用key去代表某個parameter來提高可讀性，這樣就不須要照順序填入，和function配對正確就可以了\n",
    "\n",
    "def introduce(name, age):\n",
    "    print(f\"My name is {name} and I am {age} years old.\")\n",
    "\n",
    "introduce(age=25, name=\"Charlie\")"
   ]
  },
  {
   "cell_type": "markdown",
   "metadata": {},
   "source": [
    "(3) 參數數量不固定\n",
    "\n",
    "如果函式的參數數量不固定，可以使用 *args 或 **kwargs 運算子"
   ]
  },
  {
   "cell_type": "code",
   "execution_count": null,
   "metadata": {},
   "outputs": [
    {
     "name": "stdout",
     "output_type": "stream",
     "text": [
      "15\n",
      "name: Alice\n",
      "age: 30\n",
      "city: New York\n"
     ]
    }
   ],
   "source": [
    "# 使用 *args (單個星星) 來接收不定數量的參數\n",
    "def add_all(*numbers):\n",
    "    return sum(numbers)\n",
    "\n",
    "print(add_all(1, 2, 3, 4, 5))  # 輸出：15\n",
    "\n",
    "# 使用 **kwargs (雙個星星) 來接收帶有 key 值的參數\n",
    "def print_info(**info):\n",
    "    for key, value in info.items():\n",
    "        print(f\"{key}: {value}\")\n",
    "\n",
    "print_info(name=\"Alice\", age=30, city=\"New York\")"
   ]
  },
  {
   "cell_type": "markdown",
   "metadata": {},
   "source": [
    "#### Lambda function（匿名函式）\n",
    "Python 提供 lambda 表達式 來定義簡短的函式，但可讀性相對較差"
   ]
  },
  {
   "cell_type": "code",
   "execution_count": 12,
   "metadata": {},
   "outputs": [
    {
     "name": "stdout",
     "output_type": "stream",
     "text": [
      "25\n"
     ]
    }
   ],
   "source": [
    "square = lambda x: x ** 2\n",
    "print(square(5))"
   ]
  },
  {
   "cell_type": "markdown",
   "metadata": {},
   "source": [
    "等價於"
   ]
  },
  {
   "cell_type": "code",
   "execution_count": 14,
   "metadata": {},
   "outputs": [
    {
     "name": "stdout",
     "output_type": "stream",
     "text": [
      "25\n"
     ]
    }
   ],
   "source": [
    "def square(x):\n",
    "    return x ** 2\n",
    "print(square(5))"
   ]
  },
  {
   "cell_type": "markdown",
   "metadata": {},
   "source": [
    "- 小小 exercise: 請寫一個計算bmi的function"
   ]
  },
  {
   "cell_type": "code",
   "execution_count": null,
   "metadata": {},
   "outputs": [
    {
     "name": "stdout",
     "output_type": "stream",
     "text": [
      "Your BMI is 0.038330078125\n"
     ]
    }
   ],
   "source": [
    "# Code Here\n",
    "\n",
    "### Please define your BMI function let following code can run.\n",
    "### 請不要修改下列 code\n",
    "\n",
    "#===== start of your bmi function =====#\n",
    "\n",
    "\n",
    "#==== end of your bmi function =====#\n",
    "\n",
    "weight = float(input('Enter your weight in kg...'))\n",
    "height = float(input('Enter your height in m...'))\n",
    "print(f'Your BMI is {bmi(weight, height)}')"
   ]
  },
  {
   "cell_type": "markdown",
   "metadata": {},
   "source": [
    "## Class 類別\n",
    "### What is Class? What is Object?\n",
    "\n",
    "- 類別（Class） 是一種用來創建物件的模板，定義了物件的屬性（變數）與行為（方法）\n",
    "- 物件（Object） 實體化類別，每個物件都會有獨立的屬性與行為\n",
    "\n",
    "使用類別的優勢包括：\n",
    "\n",
    "- 程式結構清晰，易於維護\n",
    "- 提高程式的重用性\n",
    "\n",
    "### 如何定義Class？\n",
    "使用 `class` 來定義類別，並透過 __init__() 方法來初始化物件，變數命名第一個字通常是大寫，可以在class底下放入 variable 或 function\n",
    "\n",
    "```python\n",
    "class 類別名稱:\n",
    "    def __init__(self, 屬性1, 屬性2):\n",
    "        self.屬性1 = 屬性1\n",
    "        self.屬性2 = 屬性2\n",
    "\n",
    "    def 方法名稱(self):\n",
    "        # 方法的內容\n",
    "        pass\n",
    "```"
   ]
  },
  {
   "cell_type": "markdown",
   "metadata": {},
   "source": [
    "建立簡單的類別與物件"
   ]
  },
  {
   "cell_type": "code",
   "execution_count": 20,
   "metadata": {},
   "outputs": [],
   "source": [
    "# 定義 Class\n",
    "class Person:\n",
    "    def __init__(self, name, age):\n",
    "        self.name = name\n",
    "        self.age = age\n",
    "\n",
    "    def greet(self):\n",
    "        print(f\"Hello, my name is {self.name} and I am {self.age} years old.\")"
   ]
  },
  {
   "cell_type": "markdown",
   "metadata": {},
   "source": [
    "Build a Class 創建物件(實例化類別)\n",
    "\n",
    "- 使用 `VAR_NAME = CLASS_NAME()` 可以建立一個 class\n",
    "- 接著可以使用 `VAR_NAME.FUNC_NAME` 或 `VAR_NAME.VARIABLE_NAME` 使用 `.` 去呼叫 class 底下的成員，**變數和函式都可以**"
   ]
  },
  {
   "cell_type": "code",
   "execution_count": 22,
   "metadata": {},
   "outputs": [
    {
     "name": "stdout",
     "output_type": "stream",
     "text": [
      "Hello, my name is Alice and I am 25 years old.\n"
     ]
    }
   ],
   "source": [
    "p1 = Person(\"Alice\", 25)\n",
    "p1.greet()"
   ]
  },
  {
   "cell_type": "markdown",
   "metadata": {},
   "source": [
    "### Class的屬性與方法\n",
    "- 類別屬性（Attributes）: 與物件綁定的變數，通常在 __init__() 方法內定義。\n",
    "- 類別方法（Methods）: 與類別相關的function，第一個參數通常是 self，代表該物件本身，透過呼叫自己來存取自己的屬性。"
   ]
  },
  {
   "cell_type": "code",
   "execution_count": 10,
   "metadata": {},
   "outputs": [
    {
     "name": "stdout",
     "output_type": "stream",
     "text": [
      "Deposited 500. New balance: 1500\n",
      "Insufficient funds\n"
     ]
    }
   ],
   "source": [
    "class BankAccount:\n",
    "    def __init__(self, owner, balance=0): # initialize  and create 這個類別自己的 attribute\n",
    "        self.owner = owner\n",
    "        self.balance = balance\n",
    "\n",
    "    def deposit(self, amount): # 建立存錢的方法\n",
    "        self.balance += amount # 更新balance屬性的值\n",
    "        print(f\"Deposited {amount}. New balance: {self.balance}\")\n",
    "\n",
    "    def withdraw(self, amount):\n",
    "        if amount <= self.balance:\n",
    "            self.balance -= amount\n",
    "            print(f\"Withdrew {amount}. New balance: {self.balance}\")\n",
    "        else:\n",
    "            print(\"Insufficient funds\")\n",
    "\n",
    "# 創建帳戶\n",
    "account = BankAccount(\"Alice\", 1000)\n",
    "account.deposit(500)\n",
    "account.withdraw(2000)"
   ]
  },
  {
   "cell_type": "markdown",
   "metadata": {},
   "source": [
    "### Why Class?\n",
    "如果你有很多 Function，他們有不同的變數要傳送，你的 Function arguments 可能會越來越長\n",
    "\n",
    "Class 就是封裝了 Function 和 Variable 在一起的一個東東，他通常會表達一個比較高級的抽象概念，例如：**「老師、同學」**這個身份、**自訂的變數型態**\n",
    "\n",
    "---\n",
    "\n",
    "用 Class 把整個程式切割開來的設計理念叫做 物件導向程式設計（Object-Oriented Programming, 簡稱 OOP），是現代程式最主要的設計理念，在現代的語言和框架中，幾乎都有以 OOP 設計的邏輯\n",
    "\n",
    "OOP 有啥優點？\n",
    "\n",
    "1. 切成物件，Debug 較容易\n",
    "2. 可以使用繼承，重新利用 code\n",
    "3. 用多型來增加彈性\n",
    "4. 可以快速解決問題，相較\n",
    "\n",
    "詳細 OOP 的優缺點、比較，不是我們這堂課的重點\n",
    "資管系的課程較少這部分的練習，有興趣一定要花點時間去研究\n",
    "\n",
    "參考：\n",
    "https://www.roberthalf.com/blog/salaries-and-skills/4-advantages-of-object-oriented-programming"
   ]
  },
  {
   "cell_type": "markdown",
   "metadata": {},
   "source": [
    "## Iteration\n",
    "\n",
    "### For Loop\n",
    "\n",
    "for 用於知道迴圈要作幾次時，Python 中, for 通常與 function `range()` 搭配\n",
    "\n",
    "C 的 for 語法是\n",
    "\n",
    "```c\n",
    "for (int i = 初始值; 終止條件; 迴圈步數) { ... }\n",
    "```\n",
    "\n",
    "Python 的 range 也是和他類似\n",
    "\n",
    "```python\n",
    "for i in range(初始值, 終止數字, 迴圈步數): ...\n",
    "```\n",
    "\n",
    "我們來看看一個 C 的迴圈\n",
    "\n",
    "```c\n",
    "for (int i = 1; i < 10; i++) {\n",
    "    printf(\"Square of %d is %d\\n\", i, i * i);\n",
    "}\n",
    "```\n",
    "\n",
    "接著把上面 C 改成 Python\n",
    "\n",
    "```python\n",
    "for i in range(1, 10, 1):\n",
    "    print('Square of ' + str(i) + ' = ' + str(i**2))\n",
    "print('-' * 20)\n",
    "```\n",
    "\n",
    "這兩個人完全等價，基本上沒有任何區別，值得注意的是 **Python for 的終止條件只會是小於**、最後的步數預設值是 1，可以省略\n",
    "\n",
    "所以如果你的 i 要從 3 ~ 10，你的 range 可以改成\n",
    "\n",
    "```python\n",
    "for i in range(3, 11): # 省略 step\n",
    "    pass\n",
    "```"
   ]
  },
  {
   "cell_type": "code",
   "execution_count": 23,
   "metadata": {},
   "outputs": [
    {
     "name": "stdout",
     "output_type": "stream",
     "text": [
      "Square of 1 = 1\n",
      "Square of 3 = 9\n",
      "Square of 5 = 25\n",
      "Square of 7 = 49\n",
      "Square of 9 = 81\n",
      "--------------------\n",
      "Square of 5 = 25\n",
      "Square of 10 = 100\n",
      "Square of 15 = 225\n",
      "Square of 20 = 400\n",
      "--------------------\n",
      "Square of 11 = 121\n",
      "Square of 9 = 81\n",
      "Square of 7 = 49\n",
      "Square of 5 = 25\n",
      "Square of 3 = 9\n",
      "Square of 1 = 1\n",
      "--------------------\n"
     ]
    }
   ],
   "source": [
    "# 依序為 range(初始值, 終止值（小於）, step)\n",
    "for i in range(1, 10, 2):\n",
    "    print('Square of {} = {}'.format(i, i ** 2))\n",
    "print('-' * 20)\n",
    "\n",
    "for i in range(5, 21, 5):\n",
    "    print('Square of {} = {}'.format(i, i ** 2))\n",
    "print('-' * 20)\n",
    "\n",
    "for i in range(11, 0, -2):\n",
    "    print('Square of {} = {}'.format(i, i ** 2))\n",
    "print('-' * 20)"
   ]
  },
  {
   "cell_type": "markdown",
   "metadata": {},
   "source": [
    "### While Loop\n",
    "\n",
    "while 迴圈用於你不知道迴圈何時會結束, 每一輪 while 迴圈會去確認條件式是否為 True, 為 True 則會繼續執行下去\n",
    "\n",
    "for example: 計算 n! 何時會大於 600"
   ]
  },
  {
   "cell_type": "code",
   "execution_count": 24,
   "metadata": {},
   "outputs": [
    {
     "name": "stdout",
     "output_type": "stream",
     "text": [
      "factor(6) = 720\n",
      "5! <= 600 < 6!\n"
     ]
    }
   ],
   "source": [
    "n = 1\n",
    "factorial_num = 1\n",
    "limit = 600\n",
    "\n",
    "\n",
    "while factorial_num <= limit:\n",
    "    n += 1\n",
    "    factorial_num *= n\n",
    "\n",
    "print(f'factor({n}) = {factorial_num}')\n",
    "print(f'{n - 1}! <= {limit} < {n}!')"
   ]
  },
  {
   "cell_type": "markdown",
   "metadata": {},
   "source": [
    "#### break\n",
    "當你在執行過程中想要結束回圈，可以使用`break`"
   ]
  },
  {
   "cell_type": "code",
   "execution_count": 25,
   "metadata": {},
   "outputs": [
    {
     "name": "stdout",
     "output_type": "stream",
     "text": [
      "Count: 1\n",
      "Count: 2\n",
      "Count: 3\n",
      "Count: 4\n",
      "Count: 5\n",
      "Count reached 5. Exiting loop.\n",
      "Loop finished.\n"
     ]
    }
   ],
   "source": [
    "count = 0\n",
    "\n",
    "while True:\n",
    "    count += 1\n",
    "    print(\"Count:\", count)\n",
    "\n",
    "    if count == 5:\n",
    "        print(\"Count reached 5. Exiting loop.\")\n",
    "        break\n",
    "\n",
    "print(\"Loop finished.\")"
   ]
  },
  {
   "cell_type": "code",
   "execution_count": 26,
   "metadata": {},
   "outputs": [
    {
     "name": "stdout",
     "output_type": "stream",
     "text": [
      "1\n",
      "2\n",
      "3\n",
      "4\n",
      "5\n",
      "6\n",
      "7\n",
      "8\n",
      "9\n",
      "10\n"
     ]
    }
   ],
   "source": [
    "i = 1\n",
    "while True:          # 當條件為1時進入回圈，此為無窮迴圈\n",
    "    print(i)         # 輸出1~10\n",
    "    i += 1\n",
    "    if i > 10:     # 當i大於10的時候跳出迴圈\n",
    "        break"
   ]
  },
  {
   "cell_type": "markdown",
   "metadata": {},
   "source": [
    "#### continue\n",
    "如果想要在特定情況下不執行循環，可以使用`continue`\n",
    "\n",
    "下面的程式碼適當數字為偶數時不進入循環。"
   ]
  },
  {
   "cell_type": "code",
   "execution_count": 27,
   "metadata": {},
   "outputs": [
    {
     "name": "stdout",
     "output_type": "stream",
     "text": [
      "1\n",
      "3\n",
      "5\n",
      "7\n",
      "9\n"
     ]
    }
   ],
   "source": [
    "i = 0\n",
    "while i < 10:   \n",
    "    i += 1\n",
    "    if i%2 == 0:     # 當數字為雙數時跳過\n",
    "        continue\n",
    "    print (i)         # 輸出單數"
   ]
  },
  {
   "cell_type": "markdown",
   "metadata": {},
   "source": [
    "- 小小Exercise: Find Prime Numbers in a Given Range"
   ]
  },
  {
   "cell_type": "code",
   "execution_count": null,
   "metadata": {},
   "outputs": [],
   "source": []
  },
  {
   "cell_type": "markdown",
   "metadata": {},
   "source": [
    "## Exercise"
   ]
  },
  {
   "cell_type": "markdown",
   "metadata": {},
   "source": [
    "#### Question1: Implement a Custom Counter Class\n",
    "\n",
    "Design a class Counter that initializes with a given integer value. The class should support the following operations:\n",
    "\n",
    "increment() – Increases the counter value by 1.\n",
    "\n",
    "decrement() – Decreases the counter value by 1.\n",
    "\n",
    "get_value() – Returns the current counter value."
   ]
  },
  {
   "cell_type": "code",
   "execution_count": null,
   "metadata": {},
   "outputs": [
    {
     "data": {
      "text/plain": [
       "100"
      ]
     },
     "execution_count": 16,
     "metadata": {},
     "output_type": "execute_result"
    }
   ],
   "source": [
    "class Counter:\n",
    "    def __init__(self, value):\n",
    "        self.value = value\n",
    "    def increment(self):\n",
    "        self.value += 1\n",
    "    def decrement(self):\n",
    "        self.value -= 1\n",
    "    def get_value(self):\n",
    "        return self.value\n",
    "        \n",
    "value = Counter(int(input()))\n",
    "value.decrement()\n",
    "value.get_value()    "
   ]
  },
  {
   "cell_type": "markdown",
   "metadata": {},
   "source": [
    "#### Question2: Find the First Unique Character in a String\n",
    "\n",
    "Given a string s, return the index of the first non-repeating character. If there is no such character, return -1.\n",
    "\n",
    "```python\n",
    "Input: s = \"leetcode\"\n",
    "Output: 0\n",
    "```\n",
    "```python\n",
    "Input: s = \"loveleetcode\"\n",
    "Output: 2\n",
    "```\n",
    "```python\n",
    "Input: s = \"aabb\"\n",
    "Output: -1\n",
    "```"
   ]
  },
  {
   "cell_type": "code",
   "execution_count": 24,
   "metadata": {},
   "outputs": [
    {
     "name": "stdout",
     "output_type": "stream",
     "text": [
      "2\n"
     ]
    }
   ],
   "source": [
    "s = input()\n",
    "found = False\n",
    "for i in s:\n",
    "    if (s.count(i) == 1):\n",
    "        found = True\n",
    "        print(s.index(i))\n",
    "        break\n",
    "if (found == False):   \n",
    "    print(-1)"
   ]
  }
 ],
 "metadata": {
  "kernelspec": {
   "display_name": "base",
   "language": "python",
   "name": "python3"
  },
  "language_info": {
   "codemirror_mode": {
    "name": "ipython",
    "version": 3
   },
   "file_extension": ".py",
   "mimetype": "text/x-python",
   "name": "python",
   "nbconvert_exporter": "python",
   "pygments_lexer": "ipython3",
   "version": "3.12.3"
  }
 },
 "nbformat": 4,
 "nbformat_minor": 2
}
