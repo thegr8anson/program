{
 "cells": [
  {
   "cell_type": "markdown",
   "metadata": {},
   "source": [
    "# MIS132 程式設計實習 - Lab 02"
   ]
  },
  {
   "cell_type": "markdown",
   "metadata": {},
   "source": [
    "### Review\n",
    "上週初步帶大家認識這些東西\n",
    "- 型別(Type) ex: int, float, str\n",
    "- 變數(Variable)\n",
    "- 布林值(Booleans) ex: true/false\n",
    "- if/else"
   ]
  },
  {
   "cell_type": "markdown",
   "metadata": {},
   "source": [
    "### Outline this week\n",
    "\n",
    "- 運算式 Expression, 運算子 Operator, 運算元 Operand\n",
    "- String\n",
    "    - 格式字串 Formatted String\n",
    "    - 切片字串 String Slicing\n",
    "    - String Methods\n",
    "- 意外處理 Exception Handling\n",
    "- Exercise\n",
    "\n",
    "----"
   ]
  },
  {
   "cell_type": "markdown",
   "metadata": {},
   "source": [
    "### 運算式 Expression, 運算子 Operator, 運算元 Operand\n",
    "上一堂課有提到python可以做基本運算，或是兩個變數之間做比較，這邊整理說明得更完整一點！\n",
    "\n",
    "在底下運算式的例子中,\n",
    "\n",
    "* `a`, `b`, `c` 為 operand\n",
    "* `+` 為 operator\n",
    "* `a = 2`, `b = 3`, `c = a + b` 為 expression"
   ]
  },
  {
   "cell_type": "code",
   "execution_count": 1,
   "metadata": {},
   "outputs": [],
   "source": [
    "a = 2\n",
    "b = 3\n",
    "c = a + b"
   ]
  },
  {
   "cell_type": "markdown",
   "metadata": {},
   "source": [
    "Operator 有以下幾種\n",
    "\n",
    "1. Arithmetic operators (加減乘除, etc.)\n",
    "2. Comparison operators (比大小)\n",
    "3. Assignment operators (指定值)\n",
    "4. Logical operators (邏輯, 對錯)\n",
    "5. Bitwise operators (位元運算, 這學期不會提到)"
   ]
  },
  {
   "cell_type": "markdown",
   "metadata": {},
   "source": [
    "#### 1. Arithmetic operators (加減乘除, etc.)\n",
    "\n",
    "| Operator | Name | Description | Example |\n",
    "| -------- | ---- | ---------- | ------- |\n",
    "| `+` | 加 | 將兩 operands 相加 | `10 + 20 → 30` |\n",
    "| `-` | 減 | 將左邊的 operand 減去右邊的 operand | `10 - 20 → -10` |\n",
    "| `*` | 乘 | 將兩 operands 相乘 | `10 * 20 → 200` |\n",
    "| `/` | 真除法(division) | 將左邊 operand 除以右邊 operand | `10 / 20 → 0.5` |\n",
    "| `%` | 餘 | 左邊 operand 除以右邊 operand 後的餘數 | `10 % 20 → 10` |\n",
    "| `**` | 乘冪 | 左邊 operand 為底, 右邊 operand 為次方數 | `100 ** .5 → 10` |\n",
    "| `//` | 假除法(Floor division) | 將左邊 operand 除以右邊 operand, 直接忽略小數點以後的所有數字(相除取整數) | `9//2 → 4` |"
   ]
  },
  {
   "cell_type": "markdown",
   "metadata": {},
   "source": [
    "#### 2. Comparison operators (比大小)\n",
    "| Operator | Description | Example |\n",
    "| -------- | ----------- | ------- |\n",
    "| `==` | 確認兩 operands 是否相等 | `(10 == 20) → False` |\n",
    "| `!=` | 確認兩 operands 是否不同 | `(10 != 20) → True` |\n",
    "| `>` | 左邊 operand 是否大於右邊 operand | `(10 > 20) → False` |\n",
    "| `<` | 左邊 operand 是否小於右邊 operand | `(10 < 20) → True` |\n",
    "| `>=` | 左邊 operand 是否大於右邊或等於 operand | `(10 >= 20) → False` |\n",
    "| `<=` | 左邊 operand 是否小於右邊或等於 operand | `(10 <= 20) → True` |"
   ]
  },
  {
   "cell_type": "code",
   "execution_count": 27,
   "metadata": {},
   "outputs": [
    {
     "name": "stdout",
     "output_type": "stream",
     "text": [
      "True False 1 0\n",
      "True False True\n"
     ]
    }
   ],
   "source": [
    "# 'False' and 'True' are aliases for the integer '0' and '1', respectively.\n",
    "print(True, False, True + 0, False + 0)\n",
    "\n",
    "# basic usage of operand and comparison operators\n",
    "print(a == 2, b > 5, b <= 3)"
   ]
  },
  {
   "cell_type": "markdown",
   "metadata": {},
   "source": [
    "#### 3. Assignment operators (指定值)\n",
    "\n",
    " | Operator | Description | Example |\n",
    " | :------: | :---------: | ------- |\n",
    " | `=` | assignment operator, 將右邊 operand assign 給左邊 operand | `c = a + b` will assign value of `a + b` into `c` |\n",
    " | `+=` | - | `c += a` is equicalent to `c = c + a` |\n",
    " | `-=` | - | `c -= a` is equicalent to `c = c - a` |\n",
    " | `*=` | - | `c *= a` is equicalent to `c = c * a` |\n",
    " | `/=` | - | `c /= a` is equicalent to `c = c / a` |\n",
    " | `%=` | - | `c %= a` is equicalent to `c = c % a` |\n",
    " | `**=` | - | `c **= a` is equicalent to `c = c ** a` |\n",
    " | `//=` | - | `c //= a` is equicalent to `c = c // a` |"
   ]
  },
  {
   "cell_type": "markdown",
   "metadata": {},
   "source": [
    "**Note:**\n",
    "注意！Python 並沒有 C/C++ 的 `n++, ++n, n-- or --n`\n",
    "\n",
    "這幾種運算子要用 `n += 1` or `n -= 1` 取代"
   ]
  },
  {
   "cell_type": "markdown",
   "metadata": {},
   "source": [
    "#### 4. Logical operators (邏輯, 是非對錯)\n",
    "| Operator | Description | Example |\n",
    "| -------- | ----------- | ------- |\n",
    "| and | 左邊與右邊的 operands **皆為 True**, 其值輸出為True | `(True and 0) → False` |\n",
    "| or | 左邊與右邊的 operands **任一為 True**, 其值輸出為True | `(True or 0) → True` |\n",
    "| not | 如果 operand 為 False, 則輸出為 True; 如果 oprand 為 True, 則輸出為 False <br>(任何非零的數字都被解釋為 \"true\") | `not 7 → False` <br> `not 0 → True` <br> `not \"hello\" → False` <br> `not False → True` |\n",
    "\n"
   ]
  },
  {
   "cell_type": "markdown",
   "metadata": {},
   "source": [
    "注意：在 Pandas / NumPy 裡，and 和 or 無法直接對陣列操作，必須使用 & 和 |。"
   ]
  },
  {
   "cell_type": "markdown",
   "metadata": {},
   "source": [
    "####  Ternary operator\n",
    "是一種簡潔的條件表達式，可以用來取代 if-else\n",
    "- 正常做法 \n",
    "```python\n",
    "True if condition else False\n",
    "```"
   ]
  },
  {
   "cell_type": "code",
   "execution_count": 33,
   "metadata": {},
   "outputs": [
    {
     "name": "stdout",
     "output_type": "stream",
     "text": [
      "10\n",
      "10\n"
     ]
    }
   ],
   "source": [
    "n1 = 10\n",
    "n2 = 30\n",
    "min_n = n1 if n1 < n2 else n2\n",
    "print(min_n)\n",
    "\n",
    "if n1 < n2:\n",
    "    min_n = n1\n",
    "else:\n",
    "    min_n = n2\n",
    "print(min_n)"
   ]
  },
  {
   "cell_type": "markdown",
   "metadata": {},
   "source": [
    "---\n",
    "### 格式字串 Formatted String\n",
    "\n",
    "在 c 裡面，我們的 `printf` 有很多可以調整的參數、技巧\n",
    "\n",
    "這一節就要介紹 Python 中如何輸出變數和字串\n",
    "\n",
    "我們前面提到要將變數與字串連結可以用\n",
    "```python\n",
    "age = 23\n",
    "print('I am ' + str(age) + ' years old.')\n",
    "```\n",
    "這樣的用法又醜又慢（真的很爛，不要再用了霸脫 TAT）\n",
    "\n",
    "Python 中主要有以下三種方法可以串接變數與字串"
   ]
  },
  {
   "cell_type": "markdown",
   "metadata": {},
   "source": [
    "#### 1. %-string\n",
    "\n",
    "這是最老的方法，Python 被發明時就有了，用法基本上和 C 的 `printf` 一模一樣\n",
    "```python\n",
    "'value is %d, another is %f' % (value1, value2)\n",
    "```\n",
    "優點是~~很老~~，我是說和 C 很像，所以可以無痛轉移  \n",
    "缺點是東西變多的時候不易閱讀\n",
    "\n",
    "#### 2. str.format()\n",
    "上面的例子可改寫成\n",
    "```python\n",
    "'value is {}, another is {}'.format(value1, value2)\n",
    "```\n",
    "這個用法是現在大家最常用的\n",
    "\n",
    "#### 3. f-string\n",
    "上面的例子可改寫成\n",
    "```python\n",
    "f'value is {value1}, another is {value2}'\n",
    "```\n",
    "\n",
    "* 小知識：速度比較上，f-string > %-string > str.format()"
   ]
  },
  {
   "cell_type": "code",
   "execution_count": 34,
   "metadata": {},
   "outputs": [
    {
     "name": "stdout",
     "output_type": "stream",
     "text": [
      "n1 = 4, n2 = 2.780000\n",
      "n1 = 4, n2 = 2.78\n",
      "n1 = 4, n2 = 2.78\n"
     ]
    }
   ],
   "source": [
    "n1 = 4\n",
    "n2 = 2.78\n",
    "\n",
    "## method 1\n",
    "print('n1 = %d, n2 = %f' % (n1, n2))\n",
    "\n",
    "## method 2\n",
    "print('n1 = {}, n2 = {}'.format(n1, n2))\n",
    "\n",
    "## method 3\n",
    "print(f'n1 = {n1}, n2 = {n2}')"
   ]
  },
  {
   "cell_type": "markdown",
   "metadata": {},
   "source": [
    "如果我們需要更詳細的格式 e.g. `%3d` `%.4f` 這類的格式要怎麼辦呢\n",
    "\n",
    "**%-string** 的做法和 C 一模一樣，在 % 後加上格式就可\n",
    "\n",
    "**str.format()** 和 **f-string** 則需要在 {} 內加入冒號 : ，並在後面指定格式"
   ]
  },
  {
   "cell_type": "code",
   "execution_count": 35,
   "metadata": {},
   "outputs": [
    {
     "name": "stdout",
     "output_type": "stream",
     "text": [
      "n1 =   3, n2 = 3.1416\n",
      "n1 =   3, n2 = 3.1416\n",
      "n1 =   3, n2 = 3.1416\n"
     ]
    }
   ],
   "source": [
    "n1 = 3\n",
    "n2 = 3.1415926\n",
    "\n",
    "# advanced\n",
    "## method 1\n",
    "print('n1 = %3d, n2 = %.04f' % (n1, n2))\n",
    "\n",
    "## method 2\n",
    "## 和上面是一樣的效果\n",
    "print('n1 = {:3d}, n2 = {:.4f}'.format(n1, n2))\n",
    "\n",
    "## method 3\n",
    "## 和上面是一樣的效果\n",
    "print(f'n1 = {n1:3d}, n2 = {n2:.4f}')"
   ]
  },
  {
   "cell_type": "markdown",
   "metadata": {},
   "source": [
    "還有一個方法可以顯示變數  \n",
    "```python\n",
    "print(字串1, 變數, 字串2)\n",
    "```"
   ]
  },
  {
   "cell_type": "code",
   "execution_count": 38,
   "metadata": {},
   "outputs": [
    {
     "name": "stdout",
     "output_type": "stream",
     "text": [
      "I am Andy from Taiwan\n"
     ]
    }
   ],
   "source": [
    "name = 'Andy'\n",
    "country = 'Taiwan'\n",
    "print('I am', name, 'from', country)"
   ]
  },
  {
   "cell_type": "markdown",
   "metadata": {},
   "source": [
    "將字串用逗號分隔，可以在 `print()` function 內自動分隔"
   ]
  },
  {
   "cell_type": "markdown",
   "metadata": {},
   "source": [
    "---\n",
    "### 字串切片 Slicing Strings\n",
    "字串（String）就是一連串的字母、數字或符號，這些元素排成一列，我們可以透過下列方式擷取部分字串\n",
    "- 索引（index） 就是每個字元在字串裡的位置編號，通常從 `0` 開始計算。\n",
    "- 你可以使用方括號 `[]` 和索引來選擇字串裡特定位置的字元或子字串。例如，\"hello\"[0] 就會選取字串中的第一個字元 'h'。\n",
    "- 你也可以使用 切片（slicing） 來擷取一段子字串，語法是 `[起始索引:結束索引:步數]`。\n",
    "\n",
    "![](https://i.imgur.com/yxIkqeV.png)"
   ]
  },
  {
   "cell_type": "code",
   "execution_count": 50,
   "metadata": {},
   "outputs": [
    {
     "name": "stdout",
     "output_type": "stream",
     "text": [
      "b\n",
      "a\n",
      "n\n",
      "a\n",
      "n\n"
     ]
    }
   ],
   "source": [
    "our_string = 'banana'\n",
    "print(our_string[0])\n",
    "print(our_string[1])\n",
    "print(our_string[2])\n",
    "print(our_string[3])\n",
    "print(our_string[4]) "
   ]
  },
  {
   "cell_type": "code",
   "execution_count": null,
   "metadata": {},
   "outputs": [
    {
     "name": "stdout",
     "output_type": "stream",
     "text": [
      "llo\n",
      "lo\n"
     ]
    }
   ],
   "source": [
    "greeting = 'Hello world!'\n",
    "print(greeting[2:5]) #從第二個位置取到第四個位置(5-1)\n",
    "print(greeting[2:5:2]) #從第二個位置取到第四個位置，每次跳2格"
   ]
  },
  {
   "cell_type": "markdown",
   "metadata": {},
   "source": [
    "我們也可以用負數來切割"
   ]
  },
  {
   "cell_type": "code",
   "execution_count": null,
   "metadata": {},
   "outputs": [
    {
     "name": "stdout",
     "output_type": "stream",
     "text": [
      "orl\n"
     ]
    }
   ],
   "source": [
    "print(greeting[-5:-2])"
   ]
  },
  {
   "cell_type": "markdown",
   "metadata": {},
   "source": [
    "如果不指定start index，預設為0 如果不指定end index，預設為字串的最後一個位置 如果不指定step數字，預設為1"
   ]
  },
  {
   "cell_type": "code",
   "execution_count": null,
   "metadata": {},
   "outputs": [
    {
     "name": "stdout",
     "output_type": "stream",
     "text": [
      "ello World!\n",
      "Hello World\n",
      "Hello World!\n",
      "HloWrd\n",
      "!dlroW olleH\n",
      "\n"
     ]
    }
   ],
   "source": [
    "print(greeting[1:]) # 從第一個位置取到最後一個位置\n",
    "print(greeting[:-1]) # 從第一個位置取到倒數第二個位置\n",
    "print(greeting[:]) # 從第一個位置取到最後一個位置\n",
    "print(greeting[::2])  # 從第一個位置取到最後一個位置，每次跳2格\n",
    "print(greeting[::-1]) # 反轉字串(這個很常用!!!!要記住!!!)\n",
    "print(greeting[3:3]) # empty string"
   ]
  },
  {
   "cell_type": "markdown",
   "metadata": {},
   "source": [
    "字串是不可串改的(immutable)"
   ]
  },
  {
   "cell_type": "code",
   "execution_count": 73,
   "metadata": {},
   "outputs": [
    {
     "ename": "TypeError",
     "evalue": "'str' object does not support item assignment",
     "output_type": "error",
     "traceback": [
      "\u001b[1;31m---------------------------------------------------------------------------\u001b[0m",
      "\u001b[1;31mTypeError\u001b[0m                                 Traceback (most recent call last)",
      "Cell \u001b[1;32mIn[73], line 2\u001b[0m\n\u001b[0;32m      1\u001b[0m greeting \u001b[38;5;241m=\u001b[39m \u001b[38;5;124m'\u001b[39m\u001b[38;5;124mHello, world!\u001b[39m\u001b[38;5;124m'\u001b[39m\n\u001b[1;32m----> 2\u001b[0m \u001b[43mgreeting\u001b[49m\u001b[43m[\u001b[49m\u001b[38;5;241;43m0\u001b[39;49m\u001b[43m]\u001b[49m \u001b[38;5;241m=\u001b[39m \u001b[38;5;124m'\u001b[39m\u001b[38;5;124mJ\u001b[39m\u001b[38;5;124m'\u001b[39m\n",
      "\u001b[1;31mTypeError\u001b[0m: 'str' object does not support item assignment"
     ]
    }
   ],
   "source": [
    "greeting[0] = 'J'"
   ]
  },
  {
   "cell_type": "markdown",
   "metadata": {},
   "source": [
    "那我可以怎麼做?"
   ]
  },
  {
   "cell_type": "code",
   "execution_count": 74,
   "metadata": {},
   "outputs": [
    {
     "name": "stdout",
     "output_type": "stream",
     "text": [
      "Jello, world!\n"
     ]
    }
   ],
   "source": [
    "new_greeting = 'J' + greeting[1:]\n",
    "print(new_greeting)\n"
   ]
  },
  {
   "cell_type": "markdown",
   "metadata": {},
   "source": [
    "* 小小 Exercise"
   ]
  },
  {
   "cell_type": "code",
   "execution_count": 9,
   "metadata": {},
   "outputs": [],
   "source": [
    "# 假設學生資訊如下\n",
    "stuid = 'B134020006'\n",
    "name = 'Andy'\n",
    "info = f'{stuid}_{name}'\n",
    "\n",
    "# 如果要從info字串中擷取出 stuid 和 name應該要怎麼寫?\n"
   ]
  },
  {
   "cell_type": "code",
   "execution_count": 10,
   "metadata": {},
   "outputs": [],
   "source": [
    "# 如果要印出'cle'，應該要怎麼寫?\n",
    "x = 'Welcome'\n"
   ]
  },
  {
   "cell_type": "markdown",
   "metadata": {},
   "source": [
    "---\n",
    "### String method\n",
    "python還有內建很多function可以做更多的字串操作...<br>\n",
    "可以參考: https://www.w3schools.com/python/python_strings_methods.asp"
   ]
  },
  {
   "cell_type": "code",
   "execution_count": 76,
   "metadata": {},
   "outputs": [
    {
     "data": {
      "text/plain": [
       "['__add__',\n",
       " '__class__',\n",
       " '__contains__',\n",
       " '__delattr__',\n",
       " '__dir__',\n",
       " '__doc__',\n",
       " '__eq__',\n",
       " '__format__',\n",
       " '__ge__',\n",
       " '__getattribute__',\n",
       " '__getitem__',\n",
       " '__getnewargs__',\n",
       " '__getstate__',\n",
       " '__gt__',\n",
       " '__hash__',\n",
       " '__init__',\n",
       " '__init_subclass__',\n",
       " '__iter__',\n",
       " '__le__',\n",
       " '__len__',\n",
       " '__lt__',\n",
       " '__mod__',\n",
       " '__mul__',\n",
       " '__ne__',\n",
       " '__new__',\n",
       " '__reduce__',\n",
       " '__reduce_ex__',\n",
       " '__repr__',\n",
       " '__rmod__',\n",
       " '__rmul__',\n",
       " '__setattr__',\n",
       " '__sizeof__',\n",
       " '__str__',\n",
       " '__subclasshook__',\n",
       " 'capitalize',\n",
       " 'casefold',\n",
       " 'center',\n",
       " 'count',\n",
       " 'encode',\n",
       " 'endswith',\n",
       " 'expandtabs',\n",
       " 'find',\n",
       " 'format',\n",
       " 'format_map',\n",
       " 'index',\n",
       " 'isalnum',\n",
       " 'isalpha',\n",
       " 'isascii',\n",
       " 'isdecimal',\n",
       " 'isdigit',\n",
       " 'isidentifier',\n",
       " 'islower',\n",
       " 'isnumeric',\n",
       " 'isprintable',\n",
       " 'isspace',\n",
       " 'istitle',\n",
       " 'isupper',\n",
       " 'join',\n",
       " 'ljust',\n",
       " 'lower',\n",
       " 'lstrip',\n",
       " 'maketrans',\n",
       " 'partition',\n",
       " 'removeprefix',\n",
       " 'removesuffix',\n",
       " 'replace',\n",
       " 'rfind',\n",
       " 'rindex',\n",
       " 'rjust',\n",
       " 'rpartition',\n",
       " 'rsplit',\n",
       " 'rstrip',\n",
       " 'split',\n",
       " 'splitlines',\n",
       " 'startswith',\n",
       " 'strip',\n",
       " 'swapcase',\n",
       " 'title',\n",
       " 'translate',\n",
       " 'upper',\n",
       " 'zfill']"
      ]
     },
     "execution_count": 76,
     "metadata": {},
     "output_type": "execute_result"
    }
   ],
   "source": [
    "dir(greeting)"
   ]
  },
  {
   "cell_type": "code",
   "execution_count": 13,
   "metadata": {},
   "outputs": [
    {
     "name": "stdout",
     "output_type": "stream",
     "text": [
      "HELLO WORLD!\n",
      "hello world!\n",
      "True\n",
      "True\n",
      "False\n",
      "Hello there!\n",
      "Hell@ World!\n",
      "hello 123  \n",
      "  hello 123\n",
      "hello 123\n",
      "  hello a\n",
      "Hello World!------------------\n",
      "------------------Hello World!\n",
      "---------Hello World!---------\n",
      "2\n",
      "4\n",
      "7\n",
      "hello-world-test\n",
      "['hello', 'world', 'test']\n",
      "True\n"
     ]
    }
   ],
   "source": [
    "greeting = 'Hello World!'\n",
    "print(greeting.upper())  # 轉大寫\n",
    "print(greeting.lower())  # 轉小寫\n",
    "print(greeting.startswith('Hello'))  # 判斷字串是否以特定字串開始\n",
    "print(greeting.endswith('World!'))  # 判斷字串是否以特定字串結束\n",
    "print(greeting.endswith('world!'))  # Python is case-sensitive\n",
    "print(greeting.replace('World', 'there'))\n",
    "print(greeting.replace('o', '@', 1))  # only replace one o\n",
    "print('  hello 123  '.lstrip())  # left strip\n",
    "print('  hello 123  '.rstrip())  # right strip\n",
    "print('  hello 123  '.strip())  # strip from both sides\n",
    "print('  hello abc'.rstrip('cb'))  # strip c's and b's from right\n",
    "print(greeting.ljust(30, '-'))\n",
    "print(greeting.rjust(30, '-'))\n",
    "print(greeting.center(30, '-'))\n",
    "print(greeting.count('o'))  # it contains two o's\n",
    "print(greeting.index('o'))  # the first o is greeting[4]\n",
    "print(greeting.rindex('o'))  # the last o is greeting[7]\n",
    "print('-'.join(['hello', 'world', 'test']))\n",
    "print('hello-world-test'.split('-'))\n",
    "print(greeting.upper()[3:].startswith('LO WOR'))  # combining multiple things"
   ]
  },
  {
   "cell_type": "code",
   "execution_count": 77,
   "metadata": {},
   "outputs": [
    {
     "name": "stdout",
     "output_type": "stream",
     "text": [
      "Help on built-in function replace:\n",
      "\n",
      "replace(old, new, count=-1, /) method of builtins.str instance\n",
      "    Return a copy with all occurrences of substring old replaced by new.\n",
      "\n",
      "      count\n",
      "        Maximum number of occurrences to replace.\n",
      "        -1 (the default value) means replace all occurrences.\n",
      "\n",
      "    If the optional argument count is given, only the first count occurrences are\n",
      "    replaced.\n",
      "\n"
     ]
    }
   ],
   "source": [
    "help(greeting.replace)"
   ]
  },
  {
   "cell_type": "code",
   "execution_count": 78,
   "metadata": {},
   "outputs": [
    {
     "name": "stdout",
     "output_type": "stream",
     "text": [
      "BANANA\n"
     ]
    }
   ],
   "source": [
    "word = 'banana'\n",
    "new_word = word.upper()\n",
    "print(new_word)"
   ]
  },
  {
   "cell_type": "code",
   "execution_count": 79,
   "metadata": {},
   "outputs": [
    {
     "name": "stdout",
     "output_type": "stream",
     "text": [
      "1\n"
     ]
    }
   ],
   "source": [
    "word = 'banana'\n",
    "index = word.find('a')\n",
    "print(index)"
   ]
  },
  {
   "cell_type": "code",
   "execution_count": 80,
   "metadata": {},
   "outputs": [
    {
     "data": {
      "text/plain": [
       "'Here we go'"
      ]
     },
     "execution_count": 80,
     "metadata": {},
     "output_type": "execute_result"
    }
   ],
   "source": [
    "line = ' Here we go ' # remove white space (spaces, tabs, or newlines) from the string\n",
    "line.strip()\n"
   ]
  },
  {
   "cell_type": "markdown",
   "metadata": {},
   "source": [
    "---\n",
    "### 意外處理\n",
    "\n",
    "人生有很多意外, 總要有個 Plan B 來以防萬一, 在 Python 中也不意外\n",
    "\n",
    "在此介紹 `try` / `except` 來解決程式中的意外處理"
   ]
  },
  {
   "cell_type": "code",
   "execution_count": 42,
   "metadata": {},
   "outputs": [
    {
     "ename": "ValueError",
     "evalue": "could not convert string to float: 'dkl'",
     "output_type": "error",
     "traceback": [
      "\u001b[1;31m---------------------------------------------------------------------------\u001b[0m",
      "\u001b[1;31mValueError\u001b[0m                                Traceback (most recent call last)",
      "Cell \u001b[1;32mIn[42], line 2\u001b[0m\n\u001b[0;32m      1\u001b[0m inp \u001b[38;5;241m=\u001b[39m \u001b[38;5;28minput\u001b[39m(\u001b[38;5;124m'\u001b[39m\u001b[38;5;124mEnter Fahrenheit Temperature:\u001b[39m\u001b[38;5;124m'\u001b[39m)\n\u001b[1;32m----> 2\u001b[0m fahr \u001b[38;5;241m=\u001b[39m \u001b[38;5;28;43mfloat\u001b[39;49m\u001b[43m(\u001b[49m\u001b[43minp\u001b[49m\u001b[43m)\u001b[49m\n\u001b[0;32m      3\u001b[0m cel \u001b[38;5;241m=\u001b[39m (fahr \u001b[38;5;241m-\u001b[39m \u001b[38;5;241m32.0\u001b[39m) \u001b[38;5;241m*\u001b[39m \u001b[38;5;241m5.0\u001b[39m \u001b[38;5;241m/\u001b[39m \u001b[38;5;241m9.0\u001b[39m\n\u001b[0;32m      4\u001b[0m \u001b[38;5;28mprint\u001b[39m(cel)\n",
      "\u001b[1;31mValueError\u001b[0m: could not convert string to float: 'dkl'"
     ]
    }
   ],
   "source": [
    "inp = input('Enter Fahrenheit Temperature:')\n",
    "fahr = float(inp)\n",
    "cel = (fahr - 32.0) * 5.0 / 9.0\n",
    "print(cel)"
   ]
  },
  {
   "cell_type": "code",
   "execution_count": 43,
   "metadata": {},
   "outputs": [
    {
     "name": "stdout",
     "output_type": "stream",
     "text": [
      "Please enter a number\n"
     ]
    }
   ],
   "source": [
    "inp = input('Enter Fahrenheit Temperature:')\n",
    "try:\n",
    "    fahr = float(inp)\n",
    "    cel = (fahr - 32.0) * 5.0 / 9.0\n",
    "    print(cel)\n",
    "except:\n",
    "    print('Please enter a number')"
   ]
  },
  {
   "cell_type": "markdown",
   "metadata": {},
   "source": [
    "我們要求使用者輸入身高跟體重, 進而計算他的BMI\n",
    "\n",
    "如果使用者輸入的身高體重時意外輸入了文字, 而身為程式設計師的我們就要對此情況做意外處理"
   ]
  },
  {
   "cell_type": "code",
   "execution_count": null,
   "metadata": {},
   "outputs": [
    {
     "name": "stdout",
     "output_type": "stream",
     "text": [
      "Please enter valid numeric values for height and weight.\n"
     ]
    }
   ],
   "source": [
    "try:\n",
    "    height = input('Height(m): ')\n",
    "    height = float(height)\n",
    "\n",
    "    weight = input('Weight(kg): ')\n",
    "    weight = float(weight)\n",
    "\n",
    "    bmi = weight / (height * height)\n",
    "    print('BMI is %.2f' % bmi)\n",
    "\n",
    "except ValueError: #輸入非數字的值\n",
    "    print(\"Please enter valid numeric values for height and weight.\")\n",
    "except ZeroDivisionError: #輸入0作為身高\n",
    "    print(\"Height cannot be zero. Please enter a non-zero value for height.\")\n",
    "except Exception as e: #其他類型的異常\n",
    "    print(\"An error occurred:\", e)"
   ]
  },
  {
   "cell_type": "code",
   "execution_count": 11,
   "metadata": {},
   "outputs": [
    {
     "ename": "ZeroDivisionError",
     "evalue": "division by zero",
     "output_type": "error",
     "traceback": [
      "\u001b[1;31m---------------------------------------------------------------------------\u001b[0m",
      "\u001b[1;31mZeroDivisionError\u001b[0m                         Traceback (most recent call last)",
      "Cell \u001b[1;32mIn[11], line 1\u001b[0m\n\u001b[1;32m----> 1\u001b[0m \u001b[38;5;28mprint\u001b[39m(\u001b[38;5;241;43m10\u001b[39;49m\u001b[38;5;241;43m/\u001b[39;49m\u001b[38;5;241;43m0\u001b[39;49m)\n",
      "\u001b[1;31mZeroDivisionError\u001b[0m: division by zero"
     ]
    }
   ],
   "source": [
    "print(10/0)"
   ]
  },
  {
   "cell_type": "markdown",
   "metadata": {},
   "source": [
    "* 小小練習: 利用try-except來優雅的解決上面問題，避免直接出現error"
   ]
  },
  {
   "cell_type": "code",
   "execution_count": null,
   "metadata": {},
   "outputs": [],
   "source": []
  },
  {
   "cell_type": "markdown",
   "metadata": {},
   "source": [
    "---\n",
    "## Exercise\n",
    "請開啟一份新的 Python 筆記檔案（.ipynb）, 檔名請存成「學號_L02.ipynb」，例如: M134020006_L02.ipynb\n",
    "\n",
    "如果有兩題以上的練習題，請在同一份筆記本中開兩個cells來寫，請不要建立多個 .ipynb 檔案，寫完上傳至網大。"
   ]
  },
  {
   "cell_type": "markdown",
   "metadata": {},
   "source": [
    "Question 1:<br><br>\n",
    "Write a Python program that takes a user-input string and determines whether it is a palindrome. A palindrome is defined as a string that, after converting all uppercase letters to lowercase and removing all non-alphanumeric characters, reads the same forward and backward. \n",
    "\n",
    "注意：請使用 formatted-string 的方法（不可使用 str(變數) 和 +）<br>\n",
    "使用 formatted-string 方法1：{} is a palindrome.<br>\n",
    "使用 formatted-string 方法2：{str} is palindrome.<br>\n",
    "\n",
    "Output samples\n",
    "```\n",
    "Please enter a string: A man, a plan, a canal: Panama\n",
    "\"amanaplanacanalpanama\" is a palindrome.\n",
    "\n",
    "Please enter a string: race a car\n",
    "\"raceacar\" is not a palindrome.\n",
    "\n",
    "Please enter a string:\n",
    "Input cannot be empty. Please enter a valid string.\n",
    "```\n"
   ]
  },
  {
   "cell_type": "code",
   "execution_count": null,
   "metadata": {},
   "outputs": [],
   "source": []
  }
 ],
 "metadata": {
  "kernelspec": {
   "display_name": "swarm",
   "language": "python",
   "name": "python3"
  },
  "language_info": {
   "codemirror_mode": {
    "name": "ipython",
    "version": 3
   },
   "file_extension": ".py",
   "mimetype": "text/x-python",
   "name": "python",
   "nbconvert_exporter": "python",
   "pygments_lexer": "ipython3",
   "version": "3.12.9"
  }
 },
 "nbformat": 4,
 "nbformat_minor": 2
}
