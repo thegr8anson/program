{
 "cells": [
  {
   "cell_type": "code",
   "execution_count": null,
   "metadata": {},
   "outputs": [],
   "source": [
    "# Q1\n",
    "class Counter:\n",
    "    def __init__(self, value):\n",
    "        self.value = value\n",
    "    def increment(self):\n",
    "        self.value += 1\n",
    "    def decrement(self):\n",
    "        self.value -= 1\n",
    "    def get_value(self):\n",
    "        return self.value\n",
    "        \n",
    "value = Counter(int(input()))\n",
    "value.decrement()\n",
    "value.get_value()"
   ]
  },
  {
   "cell_type": "code",
   "execution_count": null,
   "metadata": {},
   "outputs": [],
   "source": [
    "# Q2\n",
    "s = input()\n",
    "found = False\n",
    "for i in s:\n",
    "    if (s.count(i) == 1):\n",
    "        found = True\n",
    "        print(s.index(i))\n",
    "        break\n",
    "if (found == False):   \n",
    "    print(-1)"
   ]
  }
 ],
 "metadata": {
  "language_info": {
   "name": "python"
  }
 },
 "nbformat": 4,
 "nbformat_minor": 2
}
