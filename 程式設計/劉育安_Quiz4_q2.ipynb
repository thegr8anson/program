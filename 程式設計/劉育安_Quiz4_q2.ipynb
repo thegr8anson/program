{
 "cells": [
  {
   "cell_type": "code",
   "execution_count": null,
   "metadata": {},
   "outputs": [],
   "source": [
    "str_data = list(input(\"Please enter a list of integers: \").split())\n",
    "int_data = []\n",
    "for i in range(0, len(str_data)):\n",
    "    int_data.append(int(str_data[i]))\n",
    "if (len(int_data) < 3):\n",
    "    print(int_data)\n",
    "else:\n",
    "    for index in range(1, len(int_data) - 1):\n",
    "        if (int_data[index] > int_data[index - 1] and int_data[index] > int_data[index + 1]):\n",
    "            int_data[index] = 0\n",
    "    print(int_data)"
   ]
  }
 ],
 "metadata": {
  "kernelspec": {
   "display_name": "base",
   "language": "python",
   "name": "python3"
  },
  "language_info": {
   "codemirror_mode": {
    "name": "ipython",
    "version": 3
   },
   "file_extension": ".py",
   "mimetype": "text/x-python",
   "name": "python",
   "nbconvert_exporter": "python",
   "pygments_lexer": "ipython3",
   "version": "3.12.3"
  }
 },
 "nbformat": 4,
 "nbformat_minor": 2
}
