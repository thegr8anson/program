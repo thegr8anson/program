{
 "cells": [
  {
   "cell_type": "code",
   "execution_count": null,
   "metadata": {},
   "outputs": [],
   "source": [
    "# B134020042 劉育安\n",
    "def check_palindrome(sentence):\n",
    "    alnum_sentence = ''\n",
    "    for char in sentence:\n",
    "        if(char.isalnum()):\n",
    "            alnum_sentence += char\n",
    "    Lcase_sentence = alnum_sentence.lower()\n",
    "    if (Lcase_sentence == Lcase_sentence[::-1]):\n",
    "        print(f\"\\\"{Lcase_sentence}\\\" is a palindrome.\")\n",
    "    else:\n",
    "        print(f\"\\\"{Lcase_sentence}\\\" is not a palindrome.\")\n",
    "\n",
    "\n",
    "sentence = input(\"Please enter a string: \")\n",
    "if (sentence != ''):\n",
    "    check_palindrome(sentence)\n",
    "else:\n",
    "    print(\"Input cannot be empty. Please enter a valid string.\")"
   ]
  }
 ],
 "metadata": {
  "kernelspec": {
   "display_name": "base",
   "language": "python",
   "name": "python3"
  },
  "language_info": {
   "codemirror_mode": {
    "name": "ipython",
    "version": 3
   },
   "file_extension": ".py",
   "mimetype": "text/x-python",
   "name": "python",
   "nbconvert_exporter": "python",
   "pygments_lexer": "ipython3",
   "version": "3.12.3"
  }
 },
 "nbformat": 4,
 "nbformat_minor": 2
}
