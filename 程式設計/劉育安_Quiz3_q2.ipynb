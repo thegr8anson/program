{
 "cells": [
  {
   "cell_type": "code",
   "execution_count": null,
   "metadata": {},
   "outputs": [],
   "source": [
    "def is_palindrome_number(n):\n",
    "    if (str_n == str_n[::-1]):\n",
    "        print(\"Yes, it's a palindrome.\")\n",
    "    else:\n",
    "        print(\"No, it's not a palindrome.\")\n",
    "    \n",
    "str_n = input(\"Enter a positive integer: \")\n",
    "is_palindrome_number(str_n)  "
   ]
  }
 ],
 "metadata": {
  "kernelspec": {
   "display_name": "base",
   "language": "python",
   "name": "python3"
  },
  "language_info": {
   "codemirror_mode": {
    "name": "ipython",
    "version": 3
   },
   "file_extension": ".py",
   "mimetype": "text/x-python",
   "name": "python",
   "nbconvert_exporter": "python",
   "pygments_lexer": "ipython3",
   "version": "3.12.3"
  }
 },
 "nbformat": 4,
 "nbformat_minor": 2
}
