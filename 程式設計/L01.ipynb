{
 "cells": [
  {
   "cell_type": "markdown",
   "metadata": {},
   "source": [
    "# MIS132 程式設計實習 - Lab 01\n",
    "## Introduction\n",
    "\n",
    "### What is python? <br>\n",
    "python是一種容易學習的高階語言，是通用型程式語言，意味著其應用不局限於某個領域，因此Python可以用在幾乎任何地方，例如: 資料分析、自動化程式、遊戲開發、web開發、爬蟲...\n",
    "\n",
    "### Why python?<br>\n",
    "- 語法簡單，易讀易懂，適合快速開發\n",
    "- 擁有豐富的模組和函式庫\n",
    "- 可用於多種不同任務，從網頁開發到機器學習\n",
    "- 剩下的你們開始用就知道了...\n",
    "\n",
    "### 該用什麼寫?\n",
    "- Visual studio code\n",
    "- Jupyter notebook\n",
    "- google colab\n",
    "- python intepreter"
   ]
  },
  {
   "cell_type": "markdown",
   "metadata": {},
   "source": [
    "### Let's begin! <br>\n",
    "我們開始吧!先把程式想像成是一個計算機~~~~~\n",
    "\n",
    "基本運算:\n",
    "- `+`,`-`,`*`,`/`\n",
    "- `**`(次方)\n",
    "- `%`(取餘數)\n",
    "- `//`(相除取整數)\n",
    "- ..."
   ]
  },
  {
   "cell_type": "code",
   "execution_count": 1,
   "metadata": {},
   "outputs": [
    {
     "data": {
      "text/plain": [
       "20"
      ]
     },
     "execution_count": 1,
     "metadata": {},
     "output_type": "execute_result"
    }
   ],
   "source": [
    "17 + 3"
   ]
  },
  {
   "cell_type": "code",
   "execution_count": null,
   "metadata": {},
   "outputs": [
    {
     "data": {
      "text/plain": [
       "14"
      ]
     },
     "execution_count": 2,
     "metadata": {},
     "output_type": "execute_result"
    }
   ],
   "source": [
    "2 + 3 * 4 # 先乘除後加減"
   ]
  },
  {
   "cell_type": "code",
   "execution_count": null,
   "metadata": {},
   "outputs": [
    {
     "data": {
      "text/plain": [
       "20"
      ]
     },
     "execution_count": 3,
     "metadata": {},
     "output_type": "execute_result"
    }
   ],
   "source": [
    "(2 + 3) * 4 # 括號會先做"
   ]
  },
  {
   "cell_type": "markdown",
   "metadata": {},
   "source": [
    "計算順序 Order of evaluation <br>\n",
    "\n",
    "順序性為\n",
    "1. 括號Parenthesis\n",
    "2. 指數Exponentiation (power)\n",
    "3. 乘, 除, 餘\n",
    "4. 加, 減\n",
    "5. 由左至右"
   ]
  },
  {
   "cell_type": "code",
   "execution_count": 49,
   "metadata": {},
   "outputs": [
    {
     "name": "stdout",
     "output_type": "stream",
     "text": [
      "11.0\n"
     ]
    }
   ],
   "source": [
    "x = 1 + 2 ** 3 / 4 * 5\n",
    "print(x)"
   ]
  },
  {
   "cell_type": "markdown",
   "metadata": {},
   "source": [
    "### 型別 Type\n",
    "\n",
    "每個值都會有它的type，你可以輸入type(value)來查看某個value的type\n",
    "\n",
    "- 整數(int)\n",
    "- 浮點數(float)\n",
    "- 字串(string)\n",
    "- 布林數(booling)\n",
    "- 串列(list)\n",
    "- more...\n",
    "\n",
    "在 Python 中, 變數都有各自的型別 type.\n",
    "\n",
    "因為 Python 是高階語言, 所以它會自動偵測變數的型別, 而不像 C, 你必須事先宣告\n",
    "\n",
    "在 C 中\n",
    "```C\n",
    "int main(void) {\n",
    "    int i = 0;\n",
    "    char x[12] = \"Hello world\";\n",
    "    return(0)  \n",
    "}\n",
    "```\n",
    "\n",
    "在 Python 中\n",
    "```Python\n",
    "i = 0\n",
    "x = \"Hello world\"\n",
    "```\n",
    "\n",
    "Python 本身知道數值與字串的差別\n",
    "\n",
    "舉例來說, `+` 對於數字和字串會有不同的作用"
   ]
  },
  {
   "cell_type": "markdown",
   "metadata": {},
   "source": [
    "#### Example\n",
    "1. 輸入\"hello\" + \"world\"，how about \"hello\" * \"world\"\n",
    "2. 輸入\"hello\" + 3, how about \"hello\" * 3\n",
    "3. 輸入0.5 + 3, how about 0.5 * 3"
   ]
  },
  {
   "cell_type": "code",
   "execution_count": 12,
   "metadata": {},
   "outputs": [
    {
     "name": "stdout",
     "output_type": "stream",
     "text": [
      "helloworld\n",
      "hellohellohello\n",
      "3.5\n"
     ]
    }
   ],
   "source": [
    "print(\"hello\" + \"world\")\n",
    "# print(\"hello\" * \"world\")\n",
    "# print(\"hello\" + 3)\n",
    "print(\"hello\" * 3)\n",
    "print(0.5 + 3)"
   ]
  },
  {
   "cell_type": "markdown",
   "metadata": {},
   "source": [
    " 在 + 的方面, 數字與字串無法混用"
   ]
  },
  {
   "cell_type": "markdown",
   "metadata": {},
   "source": [
    "### 變數 Variables\n",
    "變數的意義: 用來代表某個值(value)"
   ]
  },
  {
   "cell_type": "code",
   "execution_count": 13,
   "metadata": {},
   "outputs": [
    {
     "name": "stdout",
     "output_type": "stream",
     "text": [
      "1\n",
      "2\n"
     ]
    }
   ],
   "source": [
    "a = 1   # 宣告一個名為a的變數，這個變數指向1，這個動作稱為\"賦值\"\n",
    "b = 2   # 同理，創造一個名為b的變數\n",
    "print(a)    # 接著我們把a這個變數所指向的數值印出來\n",
    "print(b)"
   ]
  },
  {
   "cell_type": "markdown",
   "metadata": {},
   "source": [
    "我們利用這張圖來看變數與值之間的關係\n",
    "\n",
    "![Variable diagram](https://i.imgur.com/wyocCHg.png)"
   ]
  },
  {
   "cell_type": "markdown",
   "metadata": {},
   "source": [
    "我們也可以改變某個變數所指向的值"
   ]
  },
  {
   "cell_type": "code",
   "execution_count": 14,
   "metadata": {},
   "outputs": [],
   "source": [
    "a = 2    # 讓a改成指向2"
   ]
  },
  {
   "cell_type": "markdown",
   "metadata": {},
   "source": [
    "現在我們的圖會長這樣...\n",
    "\n",
    "![Variable diagram](https://i.imgur.com/zVUrVmE.png)\n",
    "\n",
    "如果我們還沒有宣告某個變數就用它，則會出現錯誤..."
   ]
  },
  {
   "cell_type": "code",
   "execution_count": 45,
   "metadata": {},
   "outputs": [],
   "source": [
    "# print(blaalalalala)"
   ]
  },
  {
   "cell_type": "markdown",
   "metadata": {},
   "source": [
    "- 變數永遠指向某個value，他們永遠不會指向某個變數\n",
    "- 多個不同變數可以指向同一個值，但一個變數不能指向多個值"
   ]
  },
  {
   "cell_type": "markdown",
   "metadata": {},
   "source": [
    "python中的變數是case-sensitive，意思是英文中的大小寫被視為不同的\"字\""
   ]
  },
  {
   "cell_type": "code",
   "execution_count": 27,
   "metadata": {},
   "outputs": [
    {
     "name": "stdout",
     "output_type": "stream",
     "text": [
      "1\n",
      "2\n"
     ]
    }
   ],
   "source": [
    "variable_a = 1\n",
    "VARIABLE_A = 2\n",
    "print(variable_a)\n",
    "print(VARIABLE_A)"
   ]
  },
  {
   "cell_type": "markdown",
   "metadata": {},
   "source": [
    "python中有些特殊的保留字(keywords)，不能被用來當成變數名稱，例如:False、break、if、pass，這些保留字有特殊意義，之後會詳細介紹\n",
    "> 你可以輸入`help('keywords')`來查看更多python中的保留字"
   ]
  },
  {
   "cell_type": "code",
   "execution_count": 19,
   "metadata": {},
   "outputs": [
    {
     "name": "stdout",
     "output_type": "stream",
     "text": [
      "\n",
      "Here is a list of the Python keywords.  Enter any keyword to get more help.\n",
      "\n",
      "False               class               from                or\n",
      "None                continue            global              pass\n",
      "True                def                 if                  raise\n",
      "and                 del                 import              return\n",
      "as                  elif                in                  try\n",
      "assert              else                is                  while\n",
      "async               except              lambda              with\n",
      "await               finally             nonlocal            yield\n",
      "break               for                 not                 \n",
      "\n"
     ]
    }
   ],
   "source": [
    "help('keywords')"
   ]
  },
  {
   "cell_type": "markdown",
   "metadata": {},
   "source": [
    "當我們利用=賦值時，請注意，=的右邊會先執行，這代表我們可以在=右邊做一些簡單的運算後再賦值"
   ]
  },
  {
   "cell_type": "code",
   "execution_count": 23,
   "metadata": {},
   "outputs": [
    {
     "name": "stdout",
     "output_type": "stream",
     "text": [
      "2\n",
      "4\n"
     ]
    }
   ],
   "source": [
    "a = 1\n",
    "a = a + 1\n",
    "print(a)\n",
    "a = a * 2\n",
    "print(a)"
   ]
  },
  {
   "cell_type": "markdown",
   "metadata": {},
   "source": [
    "對於變數的運算，底下是一些常見的簡寫\n",
    "- a += 2 (a = a + 2)\n",
    "- a -= 2 (a = a - 2)\n",
    "- a *= 2 (a = a * 2)\n",
    "- a /= 2 (a = a / 2)\n",
    "<br>\n",
    ">小提醒: Python 不允許 直接在 print() 裡面使用增量賦值（+=、-=、*=、/=）運算"
   ]
  },
  {
   "cell_type": "markdown",
   "metadata": {},
   "source": [
    "字串其實也可以做類似的運算"
   ]
  },
  {
   "cell_type": "code",
   "execution_count": 24,
   "metadata": {},
   "outputs": [
    {
     "name": "stdout",
     "output_type": "stream",
     "text": [
      "hellohellohelloworld\n"
     ]
    }
   ],
   "source": [
    "a = 'hello'\n",
    "a *= 3\n",
    "a += 'world'\n",
    "print(a)"
   ]
  },
  {
   "cell_type": "markdown",
   "metadata": {},
   "source": [
    "### 布林值 Booleans\n",
    "`True` 跟 `False` 分別代表了 `真` 與 `假`.\n",
    "`==` 代表比較兩個數， 因此`a == 1` 的意思為 : a是否等於1? \n",
    "其結果就會由`True` or `False`呈現"
   ]
  },
  {
   "cell_type": "code",
   "execution_count": 30,
   "metadata": {},
   "outputs": [
    {
     "data": {
      "text/plain": [
       "True"
      ]
     },
     "execution_count": 30,
     "metadata": {},
     "output_type": "execute_result"
    }
   ],
   "source": [
    "a = 1\n",
    "a == 1"
   ]
  },
  {
   "cell_type": "code",
   "execution_count": 29,
   "metadata": {},
   "outputs": [
    {
     "data": {
      "text/plain": [
       "False"
      ]
     },
     "execution_count": 29,
     "metadata": {},
     "output_type": "execute_result"
    }
   ],
   "source": [
    "a = 2\n",
    "a == 1"
   ]
  },
  {
   "cell_type": "markdown",
   "metadata": {},
   "source": [
    "### None\n",
    "\n",
    "`None`在python中代表`空`、`沒有東西`，它也是一種值\n",
    "它是某些東西的預設值，之後會再看到它\n",
    "我們現在只需要知道它代表`空`、`沒有東西`"
   ]
  },
  {
   "cell_type": "markdown",
   "metadata": {},
   "source": [
    "### 其他跟比較有關的運算子\n",
    "除了==，在python的世界中還有很多不同的比較方式\n",
    "|   usage   | Description                       | True examples         |\n",
    "|-----------|-----------------------------------|-----------------------|\n",
    "| `a == b`  | a is equal to b                   | `1 == 1`              |\n",
    "| `a != b`  | a is not equal to b               | `1 != 2`              |\n",
    "| `a > b`   | a is greater than b               | `2 > 1`               |\n",
    "| `a >= b`  | a is greater than or equal to b   | `2 >= 1`, `1 >= 1`    |\n",
    "| `a < b`   | a is less than b                  | `1 < 2`               |\n",
    "| `a <= b`  | a is less than or equal to b      | `1 <= 2`, `1 <= 1`    |\n",
    "\n",
    "我們可以利用 and 跟 or 連接成更長的運算\n",
    "| Usage     | Description                               | True example                      |\n",
    "|-----------|-------------------------------------------|-----------------------------------|\n",
    "| `a and b` | a is True and b is True                   | `1 == 1 and 2 == 2`               |\n",
    "| `a or b`  | a is True, b is True or they're both True | `False or 1 == 1`, `True or True` |\n",
    "\n",
    "`not` 代表相反 "
   ]
  },
  {
   "cell_type": "code",
   "execution_count": 28,
   "metadata": {},
   "outputs": [
    {
     "data": {
      "text/plain": [
       "False"
      ]
     },
     "execution_count": 28,
     "metadata": {},
     "output_type": "execute_result"
    }
   ],
   "source": [
    "not True"
   ]
  },
  {
   "cell_type": "code",
   "execution_count": 31,
   "metadata": {},
   "outputs": [
    {
     "data": {
      "text/plain": [
       "True"
      ]
     },
     "execution_count": 31,
     "metadata": {},
     "output_type": "execute_result"
    }
   ],
   "source": [
    "1 != 2 or 2 == 3"
   ]
  },
  {
   "cell_type": "code",
   "execution_count": 32,
   "metadata": {},
   "outputs": [
    {
     "data": {
      "text/plain": [
       "True"
      ]
     },
     "execution_count": 32,
     "metadata": {},
     "output_type": "execute_result"
    }
   ],
   "source": [
    "1 != 2 and 3 == 2 or 2 == 1 or True"
   ]
  },
  {
   "cell_type": "markdown",
   "metadata": {},
   "source": [
    "### Summary\n",
    "\n",
    "- 變數有它的名字跟值，我們可以宣告變數、或改變變數的值 -> `name = value`\n",
    "- a += 1 等價於 a = a + 1\n",
    "- `=`是用來賦值的，而`==`是用來比較的\n",
    "- 變數命名盡量用小寫，並且用有意義的名稱\n",
    "- `True` 跟 `False` 是布林值(boolean value)，比較兩個數會產生布林值"
   ]
  },
  {
   "cell_type": "markdown",
   "metadata": {},
   "source": [
    "## if else and elif\n",
    "### Using if statements\n",
    "使用if statements的意義在於進行 如果...就...的運算"
   ]
  },
  {
   "cell_type": "code",
   "execution_count": 35,
   "metadata": {},
   "outputs": [
    {
     "name": "stdout",
     "output_type": "stream",
     "text": [
      "It's hot!\n"
     ]
    }
   ],
   "source": [
    "its_hot = True\n",
    "if its_hot:\n",
    "    print(\"It's hot!\")\n",
    "\n",
    "its_cold = False\n",
    "if its_cold:\n",
    "    print(\"It's cold!\")"
   ]
  },
  {
   "cell_type": "markdown",
   "metadata": {},
   "source": [
    "### Using else\n",
    "當if的判斷式不成立，則會執行else底下的statements"
   ]
  },
  {
   "cell_type": "code",
   "execution_count": null,
   "metadata": {},
   "outputs": [
    {
     "name": "stdout",
     "output_type": "stream",
     "text": [
      "It's not code.\n"
     ]
    }
   ],
   "source": [
    "its_cold = False\n",
    "if its_cold:\n",
    "    print(\"It's cold!\")\n",
    "else:\n",
    "    print(\"It's not cold.\")"
   ]
  },
  {
   "cell_type": "markdown",
   "metadata": {},
   "source": [
    "寫個小程式，讓user輸入密碼，然後檢查密碼是否正確"
   ]
  },
  {
   "cell_type": "code",
   "execution_count": 40,
   "metadata": {},
   "outputs": [
    {
     "name": "stdout",
     "output_type": "stream",
     "text": [
      "Hello!\n",
      "That's correct, welcome!\n"
     ]
    }
   ],
   "source": [
    "print(\"Hello!\")\n",
    "password = input(\"Enter your password: \")\n",
    "\n",
    "if password == \"secret\":\n",
    "    print(\"That's correct, welcome!\")\n",
    "else:\n",
    "    print(\"Access denied.\")"
   ]
  },
  {
   "cell_type": "markdown",
   "metadata": {},
   "source": [
    "如果你想要從使用者手中讀取一個數字, 我們可以先使用 input 函式來為讀取使用者輸入的字串, 再將字串轉成數字型態"
   ]
  },
  {
   "cell_type": "code",
   "execution_count": 48,
   "metadata": {},
   "outputs": [
    {
     "name": "stdout",
     "output_type": "stream",
     "text": [
      "Welcome to CM132 45\n"
     ]
    }
   ],
   "source": [
    "inp = input('What is ur student ID ?')\n",
    "stdid = int(inp)\n",
    "print('Welcome to CM132', stdid)"
   ]
  },
  {
   "cell_type": "markdown",
   "metadata": {},
   "source": [
    "### elif\n",
    "如果我們有很多種條件要檢查，我們可能會寫成這樣"
   ]
  },
  {
   "cell_type": "code",
   "execution_count": 41,
   "metadata": {},
   "outputs": [
    {
     "name": "stdout",
     "output_type": "stream",
     "text": [
      "Hello!\n",
      "Hi to you too!\n"
     ]
    }
   ],
   "source": [
    "print(\"Hello!\")\n",
    "word = input(\"Enter something: \")\n",
    "\n",
    "if word == \"hi\":\n",
    "    print(\"Hi to you too!\")\n",
    "else:\n",
    "    if word == \"hello\":\n",
    "        print(\"Hello hello!\")\n",
    "    else:\n",
    "        if word == \"howdy\":\n",
    "            print(\"Howdyyyy!\")\n",
    "        else:\n",
    "            if word == \"hey\":\n",
    "                print(\"Hey hey hey!\")\n",
    "            else:\n",
    "                if word == \"gday m8\":\n",
    "                    print(\"Gday 4 u 2!\")\n",
    "                else:\n",
    "                    print(\"I don't know what\", word, \"means.\")"
   ]
  },
  {
   "cell_type": "markdown",
   "metadata": {},
   "source": [
    "看起來有點亂，這個問題可以用elif很好的解決 elif其實就是else if的縮寫"
   ]
  },
  {
   "cell_type": "code",
   "execution_count": 1,
   "metadata": {},
   "outputs": [
    {
     "name": "stdout",
     "output_type": "stream",
     "text": [
      "Hello!\n",
      "Hi to you too!\n"
     ]
    }
   ],
   "source": [
    "print(\"Hello!\")\n",
    "word = input(\"Enter something: \")  # input function會讓使用者輸入一段字串，然後存到word這個變數中\n",
    "\n",
    "if word == \"hi\":\n",
    "    print(\"Hi to you too!\")\n",
    "elif word == \"hello\":\n",
    "    print(\"Hello hello!\")\n",
    "elif word == \"bla\":\n",
    "    print(\"blablablablabla!\")\n",
    "elif word == \"hey\":\n",
    "    print(\"Hey hey hey!\")\n",
    "elif word == \"yap\":\n",
    "    print(\"yaaaaaaaaap!\")\n",
    "else:\n",
    "    print(\"I don't know what\", word, \"means.\")"
   ]
  },
  {
   "cell_type": "markdown",
   "metadata": {},
   "source": [
    "一些觀念的釐清...\n",
    "\n",
    "這段程式會印出 hello"
   ]
  },
  {
   "cell_type": "code",
   "execution_count": 43,
   "metadata": {},
   "outputs": [
    {
     "name": "stdout",
     "output_type": "stream",
     "text": [
      "hello\n"
     ]
    }
   ],
   "source": [
    "if 1 == 1:\n",
    "    print(\"hello\")\n",
    "elif 1 == 2:\n",
    "    print(\"this is weird\")\n",
    "else:\n",
    "    print(\"world\")"
   ]
  },
  {
   "cell_type": "markdown",
   "metadata": {},
   "source": [
    "這段程式則會印出hello 和 world"
   ]
  },
  {
   "cell_type": "code",
   "execution_count": 44,
   "metadata": {},
   "outputs": [
    {
     "name": "stdout",
     "output_type": "stream",
     "text": [
      "hello\n",
      "world\n"
     ]
    }
   ],
   "source": [
    "if 1 == 1:\n",
    "    print(\"hello\")\n",
    "if 1 == 2:\n",
    "    print(\"this is weird\")\n",
    "else:\n",
    "    print(\"world\")"
   ]
  },
  {
   "cell_type": "markdown",
   "metadata": {},
   "source": [
    "## Exercise\n",
    "請開啟一份新的 Python 筆記檔案（.ipynb）, 檔名請存成「學號_L01.ipynb」，若有多個檔案，請壓縮後上傳 \n",
    "例如: M134020006_L01.ipynb, 寫完上傳至網大。"
   ]
  },
  {
   "cell_type": "markdown",
   "metadata": {},
   "source": [
    "Question1: <br><br>\n",
    "The provided code stub reads two integers from STDIN, a and b. Add code to print three lines where:\n",
    "\n",
    "1. The first line contains the sum of the two numbers.\n",
    "2. The second line contains the difference of the two numbers (first - second).\n",
    "3. The third line contains the product of the two numbers."
   ]
  },
  {
   "cell_type": "code",
   "execution_count": null,
   "metadata": {},
   "outputs": [],
   "source": []
  },
  {
   "cell_type": "markdown",
   "metadata": {},
   "source": [
    "Question2: <br><br>\n",
    "Write a program that reads a student's score (an integer) and prints the corresponding grade category:\n",
    "\n",
    "- If the score is between 90 and 100 (inclusive), print \"Excellent\"\n",
    "- If the score is between 80 and 89, print \"Good\"\n",
    "- If the score is between 60 and 79, print \"Pass\"\n",
    "- If the score is less than 60, print \"Fail\""
   ]
  },
  {
   "cell_type": "code",
   "execution_count": null,
   "metadata": {},
   "outputs": [],
   "source": []
  }
 ],
 "metadata": {
  "kernelspec": {
   "display_name": "base",
   "language": "python",
   "name": "python3"
  },
  "language_info": {
   "codemirror_mode": {
    "name": "ipython",
    "version": 3
   },
   "file_extension": ".py",
   "mimetype": "text/x-python",
   "name": "python",
   "nbconvert_exporter": "python",
   "pygments_lexer": "ipython3",
   "version": "3.12.3"
  }
 },
 "nbformat": 4,
 "nbformat_minor": 2
}
