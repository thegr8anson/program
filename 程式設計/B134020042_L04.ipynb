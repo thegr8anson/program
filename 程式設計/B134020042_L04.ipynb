{
 "cells": [
  {
   "cell_type": "code",
   "execution_count": null,
   "id": "24e4253a",
   "metadata": {},
   "outputs": [
    {
     "name": "stdout",
     "output_type": "stream",
     "text": [
      "1994\n"
     ]
    }
   ],
   "source": [
    "# The program assumes that all input is valid.\n",
    "\n",
    "def convert_roman(roman_dict, s):\n",
    "    result = 0\n",
    "    i = 0\n",
    "    while(i < len(s)):        \n",
    "        if (i == len(s) - 1):\n",
    "            result += roman_dict[s[i]]\n",
    "            break\n",
    "        if (s[i] + s[i + 1] in roman_dict):\n",
    "            result += roman_dict[s[i] + s[i + 1]]\n",
    "            i += 2\n",
    "        else:\n",
    "            result += roman_dict[s[i]]\n",
    "            i += 1\n",
    "    return result\n",
    "\n",
    "roman_dict = {'I':1, 'IV':4,'V':5, 'IX':9, 'X':10, 'XL':40, 'L':50, 'XC':90, 'C':100, 'CD':400, 'D':500, 'CM':900, 'M':1000}\n",
    "s = input()\n",
    "result = convert_roman(roman_dict, s)\n",
    "print(result)"
   ]
  }
 ],
 "metadata": {
  "kernelspec": {
   "display_name": "Python 3",
   "language": "python",
   "name": "python3"
  },
  "language_info": {
   "codemirror_mode": {
    "name": "ipython",
    "version": 3
   },
   "file_extension": ".py",
   "mimetype": "text/x-python",
   "name": "python",
   "nbconvert_exporter": "python",
   "pygments_lexer": "ipython3",
   "version": "3.12.3"
  }
 },
 "nbformat": 4,
 "nbformat_minor": 5
}
