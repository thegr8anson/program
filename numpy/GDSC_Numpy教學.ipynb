{
  "nbformat": 4,
  "nbformat_minor": 0,
  "metadata": {
    "colab": {
      "provenance": [],
      "collapsed_sections": [
        "nK0ZkiiCiI3n",
        "TlWELRfQnp9K",
        "V1KjjpKA1ogp"
      ]
    },
    "kernelspec": {
      "name": "python3",
      "display_name": "Python 3"
    },
    "language_info": {
      "name": "python"
    }
  },
  "cells": [
    {
      "cell_type": "markdown",
      "source": [
        "若本文的資訊有誤，請聯絡我"
      ],
      "metadata": {
        "id": "QV_7P1bcjj8-"
      }
    },
    {
      "cell_type": "markdown",
      "source": [
        "# 前置作業"
      ],
      "metadata": {
        "id": "nK0ZkiiCiI3n"
      }
    },
    {
      "cell_type": "markdown",
      "source": [
        "\n",
        "## 引入Numpy\n",
        "習慣上我們會這麼引入(以np作為numpy的縮寫)"
      ],
      "metadata": {
        "id": "yo9QrRwslrlp"
      }
    },
    {
      "cell_type": "code",
      "source": [
        "import numpy as np"
      ],
      "metadata": {
        "id": "Ng2fTpyIlPqp"
      },
      "execution_count": null,
      "outputs": []
    },
    {
      "cell_type": "markdown",
      "source": [
        "# Numpy Intro"
      ],
      "metadata": {
        "id": "TlWELRfQnp9K"
      }
    },
    {
      "cell_type": "markdown",
      "source": [
        "## Numpy簡介\n",
        "Numpy 是 python 中重要且基礎的 Package，Numpy 支援許多多維度陣列與矩陣運算的數學函式庫，在科學與工程領域中有相當廣泛的用途。\n",
        "\n",
        "其核心以C語言開發，在運算上相當迅速。"
      ],
      "metadata": {
        "id": "eRYAcsCDnuur"
      }
    },
    {
      "cell_type": "markdown",
      "source": [
        "## Numpy的陣列(Array)簡介"
      ],
      "metadata": {
        "id": "PAc-awCWp6Z2"
      }
    },
    {
      "cell_type": "markdown",
      "source": [
        "**左邊有灰色一條標起來的段落，參考即可(不一定要看)**\n",
        "\n",
        "> Python 的 List 是一個很棒的容器，List 中可以同時包含許多不同類型的物件，並且 List 在元素不多的情況下，操作速度相當的快。\n",
        "\n",
        "> 但在某些情況下，我們基本上只會用到一種類型的物件(如整數)，此時想在 CPU 上處理大量「相同型別」的資料時，就可以利用 Numpy 提高速度並減少記憶體消耗。"
      ],
      "metadata": {
        "id": "xQ1mx2jBtP5d"
      }
    },
    {
      "cell_type": "markdown",
      "source": [
        "> 在 Numpy 中我們使用 Array 來代替 Python 的 List，Numpy 中的 Array 類似於 C/C++ 中Array，但比起 C/C++ 中的 Array，Numpy 為其實作了許多功能，使其便於使用。\n",
        "\n",
        "對於沒有學過 C/C++ 或除了Python以外程式語言的人來說，Numpy 的 Array 類似於 Python 的 List，現階段只需知道它在細節與底層的實作上與 Python 的 List 不太一樣。"
      ],
      "metadata": {
        "id": "gl3BrIyDtc5N"
      }
    },
    {
      "cell_type": "markdown",
      "source": [
        "---\n",
        "\n",
        "**大多數** NumPy Array 有一些限制：\n",
        "\n",
        "*   Array的所有元素必須具有相同的資料型別。\n",
        "*   一旦創建，Array的**總**大小就不能改變。\n",
        "*   形狀必須是“矩形”\n",
        "\n",
        "當滿足這些條件時，NumPy 就可以利用這些特性使陣列比起限制較少的資料結構來的更快、更有效率、更方便使用。"
      ],
      "metadata": {
        "id": "A9w-Gi2exjXn"
      }
    },
    {
      "cell_type": "markdown",
      "source": [
        "# 建立一個Numpy陣列"
      ],
      "metadata": {
        "id": "u0C2NS5q1GIQ"
      }
    },
    {
      "cell_type": "markdown",
      "source": [
        "對於Numpy的陣列，我們一樣可以用print()將他印到螢幕上，進行觀察\n",
        "\n",
        "接著我們將來介紹一些基礎的建立陣列方法"
      ],
      "metadata": {
        "id": "ppb-xWrQ2Ioo"
      }
    },
    {
      "cell_type": "markdown",
      "source": [
        "### array\n",
        "透過現有的物件建立陣列(可以用Python的List來建立)"
      ],
      "metadata": {
        "id": "oHYLYe0Os23G"
      }
    },
    {
      "cell_type": "code",
      "source": [
        "import numpy as np\n",
        "# 註釋: 中括號中的是可以省略的部分\n",
        "\n",
        "# array(object[, dtype, copy, order, subok, ...])\n",
        "data = np.array([1,2,3])    #一維陣列 3\n",
        "print(\"Array:\\n\",data)\n",
        "data = np.array([       #二維陣列 2x3\n",
        "    [1,2,3],\n",
        "    [4,5,6]\n",
        "])\n",
        "print(\"Array:\\n\",data)\n",
        "data = np.array([       #三維陣列 2x3x4\n",
        "    [\n",
        "        [1,2,3,4],\n",
        "        [5,6,7,8],\n",
        "        [1,1,1,1]\n",
        "    ],\n",
        "    [\n",
        "        [2,4,6,8],\n",
        "        [4,3,2,1],\n",
        "        [0,0,0,0]\n",
        "    ]\n",
        "])\n",
        "print(\"Array:\\n\",data)\n"
      ],
      "metadata": {
        "colab": {
          "base_uri": "https://localhost:8080/"
        },
        "id": "19Nr7yJis7u_",
        "outputId": "29da2632-9e8d-45f9-a2c6-6b3a5c10c60a"
      },
      "execution_count": null,
      "outputs": [
        {
          "output_type": "stream",
          "name": "stdout",
          "text": [
            "Array:\n",
            " [1 2 3]\n",
            "Array:\n",
            " [[1 2 3]\n",
            " [4 5 6]]\n",
            "Array:\n",
            " [[[1 2 3 4]\n",
            "  [5 6 7 8]\n",
            "  [1 1 1 1]]\n",
            "\n",
            " [[2 4 6 8]\n",
            "  [4 3 2 1]\n",
            "  [0 0 0 0]]]\n"
          ]
        }
      ]
    },
    {
      "cell_type": "markdown",
      "source": [
        "### arrange\n",
        "類似於 Python 中的 range()，只是現在回傳的是 numpy 的陣列"
      ],
      "metadata": {
        "id": "sRgTRV5XwQkY"
      }
    },
    {
      "cell_type": "code",
      "source": [
        "import numpy as np\n",
        "# 註釋: 中括號中的是可以省略的部分\n",
        "\n",
        "# arange([start,] stop[, step,][, dtype, ...])\n",
        "data = np.arange(10)\n",
        "print(data)\n",
        "print(np.arange(3,10))\n",
        "print(np.arange(3,10,2))"
      ],
      "metadata": {
        "colab": {
          "base_uri": "https://localhost:8080/"
        },
        "id": "YwmsBuY5wxiM",
        "outputId": "a2fde104-cb46-4052-a9b0-e9faa36b4d49"
      },
      "execution_count": null,
      "outputs": [
        {
          "output_type": "stream",
          "name": "stdout",
          "text": [
            "[0 1 2 3 4 5 6 7 8 9]\n",
            "[3 4 5 6 7 8 9]\n",
            "[3 5 7 9]\n"
          ]
        }
      ]
    },
    {
      "cell_type": "markdown",
      "source": [
        "### linspace\n",
        "有點像在一個線段上取好幾個點的座標，來做為陣列的資料\n",
        "(在一個線段上採樣好幾個點)"
      ],
      "metadata": {
        "id": "gn3knYC4EGZa"
      }
    },
    {
      "cell_type": "code",
      "source": [
        "\n",
        "import numpy as np\n",
        "# 註釋: 中括號中的是可以省略的部分\n",
        "\n",
        "# linspace(start, stop[, num=50][, endpoint=True][, retstep=False][, dtype=None][, axis=0, ....])\n",
        "print(np.linspace(2.0, 3.0, num=5))           # [2. 2.25 2.5 2.75 3.]  #相當於在2.0和3.0的線段中找五個點(等距)\n",
        "print(np.linspace(2.0, 3.0, num=5, endpoint=False))   # [2.  2.2 2.4 2.6 2.8] #在2.0到3.0中插五個點(3.0不算)\n",
        "print(np.linspace(2.0, 3.0, num=5, retstep=True))   # (array([2.  , 2.25, 2.5 , 2.75, 3.  ]), 0.25) #那個0.25是每個元素之間的距離"
      ],
      "metadata": {
        "colab": {
          "base_uri": "https://localhost:8080/"
        },
        "id": "TRIL1XmMEcur",
        "outputId": "fd7fee1d-8bbe-4320-f786-551d083ebe2e"
      },
      "execution_count": null,
      "outputs": [
        {
          "output_type": "stream",
          "name": "stdout",
          "text": [
            "[2.   2.25 2.5  2.75 3.  ]\n",
            "[2.  2.2 2.4 2.6 2.8]\n",
            "(array([2.  , 2.25, 2.5 , 2.75, 3.  ]), 0.25)\n"
          ]
        }
      ]
    },
    {
      "cell_type": "markdown",
      "source": [
        "## 更多: 透過給定形狀或數值建立陣列"
      ],
      "metadata": {
        "id": "V1KjjpKA1ogp"
      }
    },
    {
      "cell_type": "markdown",
      "source": [
        "### empty\n",
        "回傳給定形狀和類型的新陣列(未初始化)。"
      ],
      "metadata": {
        "id": "3w4HlHfqCrzm"
      }
    },
    {
      "cell_type": "code",
      "source": [
        "import numpy as np\n",
        "# 註釋: 中括號中的是可以省略的部分\n",
        "\n",
        "# empty(shape[, dtype, order, device, like])\n",
        "#   回傳給定形狀和類型的新陣列(未初始化)。\n",
        "#   shape: 這個矩陣的構成是長怎麼樣的，通常傳入的是tuple ex. (2,3)\n",
        "data = np.empty((2,3))\n",
        "print(\"Empty:\\n\",data)\n",
        "print(\"Empty:\\n\",np.empty((2,)))\n",
        "print(\"Empty:\\n\",np.empty((2,3,4)))"
      ],
      "metadata": {
        "colab": {
          "base_uri": "https://localhost:8080/"
        },
        "id": "FC-XMkGA11MZ",
        "outputId": "89bcb279-112f-4921-c62c-37c4fab5bb2b"
      },
      "execution_count": null,
      "outputs": [
        {
          "output_type": "stream",
          "name": "stdout",
          "text": [
            "Empty:\n",
            " [[4.9e-324 9.9e-324 1.5e-323]\n",
            " [2.0e-323 2.5e-323 3.0e-323]]\n",
            "Empty:\n",
            " [-2.00000000e+000  6.95312411e-310]\n",
            "Empty:\n",
            " [[[4.9e-324 9.9e-324 1.5e-323 2.0e-323]\n",
            "  [2.5e-323 3.0e-323 3.5e-323 4.0e-323]\n",
            "  [4.9e-324 4.9e-324 4.9e-324 4.9e-324]]\n",
            "\n",
            " [[9.9e-324 2.0e-323 3.0e-323 4.0e-323]\n",
            "  [2.0e-323 1.5e-323 9.9e-324 4.9e-324]\n",
            "  [0.0e+000 0.0e+000 0.0e+000 0.0e+000]]]\n"
          ]
        }
      ]
    },
    {
      "cell_type": "markdown",
      "source": [
        "### ones\n",
        "回傳給定形狀和類型的新陣列，並用1填滿。"
      ],
      "metadata": {
        "id": "7Sjh9OOPDQ8u"
      }
    },
    {
      "cell_type": "code",
      "source": [
        "import numpy as np\n",
        "# 註釋: 中括號中的是可以省略的部分\n",
        "\n",
        "# ones(shape[, dtype, order, device, like])\n",
        "#   回傳給定形狀和類型的新陣列，並用1填滿。\n",
        "#   shape: 這個矩陣的構成是長怎麼樣的，通常傳入的是tuple ex. (2,3)\n",
        "data = np.ones((2,3))\n",
        "print(\"ones:\\n\",data)\n",
        "print(\"ones:\\n\",np.ones(2,))\n",
        "print(\"ones:\\n\",np.ones((2,3,4)))"
      ],
      "metadata": {
        "colab": {
          "base_uri": "https://localhost:8080/"
        },
        "id": "h_dKhF0WDObJ",
        "outputId": "ad670a8e-6e43-419e-f353-76eddf106080"
      },
      "execution_count": null,
      "outputs": [
        {
          "output_type": "stream",
          "name": "stdout",
          "text": [
            "ones:\n",
            " [[1. 1. 1.]\n",
            " [1. 1. 1.]]\n",
            "ones:\n",
            " [1. 1.]\n",
            "ones:\n",
            " [[[1. 1. 1. 1.]\n",
            "  [1. 1. 1. 1.]\n",
            "  [1. 1. 1. 1.]]\n",
            "\n",
            " [[1. 1. 1. 1.]\n",
            "  [1. 1. 1. 1.]\n",
            "  [1. 1. 1. 1.]]]\n"
          ]
        }
      ]
    },
    {
      "cell_type": "markdown",
      "source": [
        "### zeros\n",
        "回傳給定形狀和類型的新陣列，並用0填滿。"
      ],
      "metadata": {
        "id": "nQISFjzeEklw"
      }
    },
    {
      "cell_type": "code",
      "source": [
        "import numpy as np\n",
        "# 註釋: 中括號中的是可以省略的部分\n",
        "\n",
        "# zeros(shape[, dtype, order, like])\n",
        "#   回傳給定形狀和類型的新陣列，並用0填滿。\n",
        "#   shape: 這個矩陣的構成是長怎麼樣的，通常傳入的是tuple ex. (2,3)\n",
        "data = np.zeros((2,3))\n",
        "print(\"zeros:\\n\",data)\n",
        "print(\"zeros:\\n\",np.zeros(2,))\n",
        "print(\"zeros:\\n\",np.zeros((2,3,4)))"
      ],
      "metadata": {
        "colab": {
          "base_uri": "https://localhost:8080/"
        },
        "outputId": "72610c9d-efe7-4f5f-fd38-a22a11b7d980",
        "id": "J8lIcr3_Eklw"
      },
      "execution_count": null,
      "outputs": [
        {
          "output_type": "stream",
          "name": "stdout",
          "text": [
            "zeros:\n",
            " [[0. 0. 0.]\n",
            " [0. 0. 0.]]\n",
            "zeros:\n",
            " [0. 0.]\n",
            "zeros:\n",
            " [[[0. 0. 0. 0.]\n",
            "  [0. 0. 0. 0.]\n",
            "  [0. 0. 0. 0.]]\n",
            "\n",
            " [[0. 0. 0. 0.]\n",
            "  [0. 0. 0. 0.]\n",
            "  [0. 0. 0. 0.]]]\n"
          ]
        }
      ]
    },
    {
      "cell_type": "markdown",
      "source": [
        "### full\n",
        "回傳給定形狀和類型的新陣列，並用指定的數值填滿。"
      ],
      "metadata": {
        "id": "ftRIqEWDExJ9"
      }
    },
    {
      "cell_type": "code",
      "source": [
        "import numpy as np\n",
        "# 註釋: 中括號中的是可以省略的部分\n",
        "\n",
        "# full(shape, fill_value[, dtype, order, ...])\n",
        "#   回傳給定形狀和類型的新陣列，並用指定的數值填滿。\n",
        "#   shape: 這個矩陣的構成是長怎麼樣的，通常傳入的是tuple ex. (2,3)\n",
        "#   fill_value: 以什麼數字填滿\n",
        "data = np.full((2,3),4)\n",
        "print(\"full:\\n\",data)\n",
        "print(\"full:\\n\",np.full((2,),5))\n",
        "print(\"full:\\n\",np.full((2,3,4),1))"
      ],
      "metadata": {
        "colab": {
          "base_uri": "https://localhost:8080/"
        },
        "outputId": "51959998-3df1-4952-af3c-70ab7d64a108",
        "id": "ziUntQKuExJ9"
      },
      "execution_count": null,
      "outputs": [
        {
          "output_type": "stream",
          "name": "stdout",
          "text": [
            "full:\n",
            " [[4 4 4]\n",
            " [4 4 4]]\n",
            "full:\n",
            " [5 5]\n",
            "full:\n",
            " [[[1 1 1 1]\n",
            "  [1 1 1 1]\n",
            "  [1 1 1 1]]\n",
            "\n",
            " [[1 1 1 1]\n",
            "  [1 1 1 1]\n",
            "  [1 1 1 1]]]\n"
          ]
        }
      ]
    },
    {
      "cell_type": "markdown",
      "source": [
        "### identity\n",
        "回傳一個單位矩陣"
      ],
      "metadata": {
        "id": "kLCFGtjcCvZW"
      }
    },
    {
      "cell_type": "code",
      "source": [
        "import numpy as np\n",
        "# 註釋: 中括號中的是可以省略的部分\n",
        "\n",
        "# identity(n[, dtype, like])\n",
        "#   回傳一個單位矩陣\n",
        "#   n: 幾成幾的單位矩陣\n",
        "data = np.identity(2)\n",
        "print(\"Identity:\\n\",data)\n",
        "print(\"Identity:\\n\",np.identity(3))\n",
        "print(\"Identity:\\n\",np.identity(4))"
      ],
      "metadata": {
        "colab": {
          "base_uri": "https://localhost:8080/"
        },
        "id": "zeJedcQICT3g",
        "outputId": "b6f2be08-83a4-4a2e-9072-84bd3b4324e9"
      },
      "execution_count": null,
      "outputs": [
        {
          "output_type": "stream",
          "name": "stdout",
          "text": [
            "Identity:\n",
            " [[1. 0.]\n",
            " [0. 1.]]\n",
            "Identity:\n",
            " [[1. 0. 0.]\n",
            " [0. 1. 0.]\n",
            " [0. 0. 1.]]\n",
            "Identity:\n",
            " [[1. 0. 0. 0.]\n",
            " [0. 1. 0. 0.]\n",
            " [0. 0. 1. 0.]\n",
            " [0. 0. 0. 1.]]\n"
          ]
        }
      ]
    },
    {
      "cell_type": "markdown",
      "source": [
        "除了這些方法外，其實還有許多建立陣列的方法，有興趣的可以自行查閱。"
      ],
      "metadata": {
        "id": "yh3Aq3aiumvw"
      }
    },
    {
      "cell_type": "markdown",
      "source": [
        "# 陣列的基礎屬性"
      ],
      "metadata": {
        "id": "uG6SaCjByCix"
      }
    },
    {
      "cell_type": "markdown",
      "source": [
        "ndim 　 : 陣列的維度\n",
        "\n",
        "shape　: 陣列的形狀\n",
        "\n",
        "size　　: 陣列的元素總數\n",
        "\n"
      ],
      "metadata": {
        "id": "Zm1c20YyyFlh"
      }
    },
    {
      "cell_type": "code",
      "source": [
        "data = np.array([1,2,3])    #一維陣列 3\n",
        "print(\"維度:\",data.ndim)\n",
        "print(\"形狀:\",data.shape)\n",
        "print(\"元素總數:\",data.size)\n",
        "print(len(data.shape)==data.ndim) #觀察一下\n",
        "temp = 1\n",
        "for i in data.shape:temp*=i\n",
        "print(temp == data.size)    #觀察一下"
      ],
      "metadata": {
        "colab": {
          "base_uri": "https://localhost:8080/"
        },
        "id": "oj4ukGbIzXaC",
        "outputId": "f1a2823d-3842-4c6e-a13e-366b5abc1ae2"
      },
      "execution_count": null,
      "outputs": [
        {
          "output_type": "stream",
          "name": "stdout",
          "text": [
            "維度: 1\n",
            "形狀: (3,)\n",
            "元素總數: 3\n",
            "True\n",
            "True\n"
          ]
        }
      ]
    },
    {
      "cell_type": "code",
      "source": [
        "data = np.array([       #二維陣列 2x3\n",
        "    [1,2,3],\n",
        "    [4,5,6]\n",
        "])\n",
        "print(\"維度:\",data.ndim)\n",
        "print(\"形狀:\",data.shape)\n",
        "print(\"元素總數:\",data.size)\n",
        "print(len(data.shape)==data.ndim) #觀察一下\n",
        "temp = 1\n",
        "for i in data.shape:temp*=i\n",
        "print(temp == data.size)    #觀察一下"
      ],
      "metadata": {
        "colab": {
          "base_uri": "https://localhost:8080/"
        },
        "id": "-TOH5gUHBk0h",
        "outputId": "f5f93808-df7c-4883-ae4c-fd9dad1d26c7"
      },
      "execution_count": null,
      "outputs": [
        {
          "output_type": "stream",
          "name": "stdout",
          "text": [
            "維度: 2\n",
            "形狀: (2, 3)\n",
            "元素總數: 6\n",
            "True\n",
            "True\n"
          ]
        }
      ]
    },
    {
      "cell_type": "code",
      "source": [
        "data = np.array([       #三維陣列 2x3x4\n",
        "    [\n",
        "        [1,2,3,4],\n",
        "        [5,6,7,8],\n",
        "        [1,1,1,1]\n",
        "    ],\n",
        "    [\n",
        "        [2,4,6,8],\n",
        "        [4,3,2,1],\n",
        "        [0,0,0,0]\n",
        "    ]\n",
        "])\n",
        "print(\"維度:\",data.ndim)\n",
        "print(\"形狀:\",data.shape)\n",
        "print(\"元素總數:\",data.size)\n",
        "print(len(data.shape)==data.ndim) #觀察一下\n",
        "temp = 1\n",
        "for i in data.shape:temp*=i\n",
        "print(temp == data.size)    #觀察一下\n",
        "print()"
      ],
      "metadata": {
        "colab": {
          "base_uri": "https://localhost:8080/"
        },
        "id": "TmfPKnqnBonB",
        "outputId": "c2423ce5-103c-43fd-aa41-9bf14a8895fb"
      },
      "execution_count": null,
      "outputs": [
        {
          "output_type": "stream",
          "name": "stdout",
          "text": [
            "維度: 3\n",
            "形狀: (2, 3, 4)\n",
            "元素總數: 24\n",
            "True\n",
            "True\n",
            "\n"
          ]
        }
      ]
    },
    {
      "cell_type": "markdown",
      "source": [
        "# 陣列的一些操作"
      ],
      "metadata": {
        "id": "taKUpSdC3IN0"
      }
    },
    {
      "cell_type": "markdown",
      "source": [
        "## 形狀操作、扁平化"
      ],
      "metadata": {
        "id": "tpJacvJz3LXX"
      }
    },
    {
      "cell_type": "code",
      "source": [
        "import numpy as np\n",
        "#\n",
        "#   扁平化\n",
        "#\n",
        "data = np.array([\n",
        "    [1,2,3],\n",
        "    [4,5,6]\n",
        "])\n",
        "print(data.ravel())\n",
        "print(data.flatten())\n",
        "\n",
        "# 到這裡你可能會想:這兩個有啥差別\n",
        "# 最大的差異即是: flatten是建立副本(修改不會改到原本的資料)、ravel則是參考(修改會改到原本的資料)\n",
        "print(\"Flatten\")\n",
        "d1 = data.flatten()\n",
        "d1[0] = 2\n",
        "print(d1)\n",
        "print(data)\n",
        "\n",
        "print(\"Ravel\")\n",
        "d2 = data.ravel()\n",
        "d2[0] = 2\n",
        "print(d2)\n",
        "print(data)   # 看到了嗎? 他會改變原本的data!!!\n",
        "# ravel的操作通常會比flatten來的快，可以視自己的需求來決定要使用哪一個"
      ],
      "metadata": {
        "colab": {
          "base_uri": "https://localhost:8080/"
        },
        "id": "AgM9iIRG3mwt",
        "outputId": "d6074ea2-6be6-4037-dfb0-175a93caad0f"
      },
      "execution_count": null,
      "outputs": [
        {
          "output_type": "stream",
          "name": "stdout",
          "text": [
            "[1 2 3 4 5 6]\n",
            "[1 2 3 4 5 6]\n",
            "Flatten\n",
            "[2 2 3 4 5 6]\n",
            "[[1 2 3]\n",
            " [4 5 6]]\n",
            "Ravel\n",
            "[2 2 3 4 5 6]\n",
            "[[2 2 3]\n",
            " [4 5 6]]\n"
          ]
        }
      ]
    },
    {
      "cell_type": "code",
      "source": [
        "import numpy as np\n",
        "#\n",
        "#   column_stack 把很多個1D-array 當作column疊起來產生新的2D陣列\n",
        "#\n",
        "a = np.array((1,2,3))\n",
        "b = np.array((4,5,6))\n",
        "c = np.array((5,6,7))\n",
        "print(np.column_stack((a,b,c)))\n",
        "# [[1 4 5]\n",
        "#  [2 5 6]\n",
        "#  [3 6 7]]\n",
        "err = np.array((1,2,3,4))\n",
        "# print(np.column_stack((a,b,c,err))) #error size要一樣!!!"
      ],
      "metadata": {
        "colab": {
          "base_uri": "https://localhost:8080/"
        },
        "id": "pzAq6d5pQNI1",
        "outputId": "c1881a47-9858-436e-a160-454579afc9bb"
      },
      "execution_count": null,
      "outputs": [
        {
          "output_type": "stream",
          "name": "stdout",
          "text": [
            "[[1 4 5]\n",
            " [2 5 6]\n",
            " [3 6 7]]\n"
          ]
        }
      ]
    },
    {
      "cell_type": "code",
      "source": [
        "import numpy as np\n",
        "#\n",
        "# Reshape\n",
        "#\n",
        "data = np.array([ #4x3  12\n",
        "    [1,2,3],\n",
        "    [4,5,6],\n",
        "    [7,8,9],\n",
        "    [10,11,12]\n",
        "])\n",
        "print(data.shape,data.size) #(4,3) 12\n",
        "print(data.reshape(2,6),\"  2x6\\n\")\n",
        "print(data.reshape(2,2,3),\"  2x2x3\\n\")\n",
        "print(data.reshape(6,2),\"  6x2\\n\")\n",
        "# print(data.reshape(3,5))  #ERROR, 注意: 使用Reshape時，括號裡面的數字乘起來要和data.size相同\n",
        "\n",
        "print(np.arange(1,13).reshape(4,3))"
      ],
      "metadata": {
        "colab": {
          "base_uri": "https://localhost:8080/"
        },
        "id": "7hZH-sk66OZe",
        "outputId": "57a3bfd6-6609-454d-ac95-3f0f46b08aab"
      },
      "execution_count": null,
      "outputs": [
        {
          "output_type": "stream",
          "name": "stdout",
          "text": [
            "(4, 3) 12\n",
            "[[ 1  2  3  4  5  6]\n",
            " [ 7  8  9 10 11 12]]   2x6\n",
            "\n",
            "[[[ 1  2  3]\n",
            "  [ 4  5  6]]\n",
            "\n",
            " [[ 7  8  9]\n",
            "  [10 11 12]]]   2x2x3\n",
            "\n",
            "[[ 1  2]\n",
            " [ 3  4]\n",
            " [ 5  6]\n",
            " [ 7  8]\n",
            " [ 9 10]\n",
            " [11 12]]   6x2\n",
            "\n",
            "[[ 1  2  3]\n",
            " [ 4  5  6]\n",
            " [ 7  8  9]\n",
            " [10 11 12]]\n"
          ]
        }
      ]
    },
    {
      "cell_type": "markdown",
      "source": [
        "## 索引、切片"
      ],
      "metadata": {
        "id": "VRttQJTC79IV"
      }
    },
    {
      "cell_type": "code",
      "source": [
        "import numpy as np\n",
        "#\n",
        "#   索引 Indexing\n",
        "#\n",
        "# 概念上和python的索引相同\n",
        "# 從0開始遞增\n",
        "data = np.array([4,6,2,1,9])\n",
        "print(data)\n",
        "print(data[0])      #4\n",
        "print(data[2])      #2\n",
        "print(data[-1])     #9\n",
        "print(data[data<5])   #[4 2 1] 所有小於 5 的值\n",
        "\n",
        "print()\n",
        "data = np.array([\n",
        "    [1,2,3,4],\n",
        "    [5,6,7,8]\n",
        "])\n",
        "print(data[0,2])    #3\n",
        "print(data[1,1])    #6\n",
        "print(data[1,0])    #5\n",
        "print(data[0])     #[1 2 3 4]  #索引索引數少於維度的多維陣列，則會得到一個亞維陣列\n",
        "print(data[0][1])   #2  #效率較data[0,1]低"
      ],
      "metadata": {
        "colab": {
          "base_uri": "https://localhost:8080/"
        },
        "id": "7ID5BdSU-kFf",
        "outputId": "13639a3e-1788-470a-cde0-7b83f8a83edc"
      },
      "execution_count": null,
      "outputs": [
        {
          "output_type": "stream",
          "name": "stdout",
          "text": [
            "[4 6 2 1 9]\n",
            "4\n",
            "2\n",
            "9\n",
            "[4 2 1]\n",
            "\n",
            "3\n",
            "6\n",
            "5\n",
            "[1 2 3 4]\n",
            "2\n"
          ]
        }
      ]
    },
    {
      "cell_type": "code",
      "source": [
        "import numpy as np\n",
        "#\n",
        "# 切片 Slicing\n",
        "#\n",
        "# 用法語python相似\n",
        "data = np.array([3,4,1,5,6,1,8,2])\n",
        "print(data[0:2])    #[3 4]\n",
        "print(data[1:4])    #[4 1 5]\n",
        "print(data[2:])     #[1 5 6 1 8 2]\n",
        "print(data[:3])     #[3 4 1]\n",
        "print(data[:])      #[3 4 1 5 6 1 8 2]\n",
        "print(data[2:7:2])  #[1 6 8]\n",
        "\n",
        "print()\n",
        "data = np.array([\n",
        "    [3,1,2,1],\n",
        "    [1,2,5,2],\n",
        "    [5,2,2,3],\n",
        "    [3,-5,1,4]\n",
        "])\n",
        "print(data[2:4,1:3])    #[[ 2  2] [-5  1]]\n",
        "print(data[0:2,1])      #[1 2]\n",
        "\n",
        "print(data[2:4])        # [[ 5  2  2  3] [ 3 -5  1  4]]\n",
        "print(data[2:4][1:3])   #[[ 3 -5  1  4]]\n",
        "print(\"\\n...\")\n",
        "#使用...代表我全都要!\n",
        "data = np.array([\n",
        "    [\n",
        "        [3,1,2],\n",
        "        [1,0,5]\n",
        "    ],\n",
        "    [\n",
        "        [5,4,3],\n",
        "        [1,3,-3]\n",
        "    ]\n",
        "])\n",
        "print(data[1,...])\n",
        "print(data[...,0:2])"
      ],
      "metadata": {
        "colab": {
          "base_uri": "https://localhost:8080/"
        },
        "id": "FKDkwVetAY1Y",
        "outputId": "63516a1a-c97c-4dfd-a59f-4e85e8aeb6cb"
      },
      "execution_count": null,
      "outputs": [
        {
          "output_type": "stream",
          "name": "stdout",
          "text": [
            "[3 4]\n",
            "[4 1 5]\n",
            "[1 5 6 1 8 2]\n",
            "[3 4 1]\n",
            "[3 4 1 5 6 1 8 2]\n",
            "[1 6 8]\n",
            "\n",
            "[[ 2  2]\n",
            " [-5  1]]\n",
            "[1 2]\n",
            "[[ 5  2  2  3]\n",
            " [ 3 -5  1  4]]\n",
            "[[ 3 -5  1  4]]\n",
            "\n",
            "...\n",
            "[[ 5  4  3]\n",
            " [ 1  3 -3]]\n",
            "[[[3 1]\n",
            "  [1 0]]\n",
            "\n",
            " [[5 4]\n",
            "  [1 3]]]\n"
          ]
        }
      ]
    },
    {
      "cell_type": "markdown",
      "source": [
        "## 轉置"
      ],
      "metadata": {
        "id": "LDI2ULWMLOnX"
      }
    },
    {
      "cell_type": "code",
      "source": [
        "data = np.arange(1,10).reshape(3,3)\n",
        "print(\"原資料:\\n\",data)\n",
        "transpose = data.T\n",
        "print(\"轉置:\\n\",transpose)"
      ],
      "metadata": {
        "colab": {
          "base_uri": "https://localhost:8080/"
        },
        "id": "lxYmjZHsLU9n",
        "outputId": "9c9dac61-73a1-4456-9e22-9047928601e0"
      },
      "execution_count": null,
      "outputs": [
        {
          "output_type": "stream",
          "name": "stdout",
          "text": [
            "原資料:\n",
            " [[1 2 3]\n",
            " [4 5 6]\n",
            " [7 8 9]]\n",
            "轉置:\n",
            " [[1 4 7]\n",
            " [2 5 8]\n",
            " [3 6 9]]\n"
          ]
        }
      ]
    },
    {
      "cell_type": "markdown",
      "source": [
        "# 陣列運算"
      ],
      "metadata": {
        "id": "7rb2cMHfE2Pq"
      }
    },
    {
      "cell_type": "markdown",
      "source": [
        "## 陣列間四則運算"
      ],
      "metadata": {
        "id": "MysP7mW7E8WK"
      }
    },
    {
      "cell_type": "code",
      "source": [
        "d1 = np.array([\n",
        "    [1,2],\n",
        "    [3,4]\n",
        "])\n",
        "d2 = np.array([\n",
        "    [5,6],\n",
        "    [7,8]\n",
        "])\n",
        "print(d1+d2)\n",
        "print(d1-d2)\n",
        "print(d1/d2)\n",
        "\n",
        "print(\"-------\")\n",
        "#乘法比較需要注意\n",
        "print(\"*\\n\",d1*d2)  #是元素相乘而已，不是數學定義的那種普通矩陣乘法\n",
        "print(\"multiply\\n\",np.multiply(d1,d2))\n",
        "\n",
        "print(\"-------\")\n",
        "#數學上面的普通矩陣乘法\n",
        "print(\"@\\n\", d1@d2)\n",
        "print(\"matmul\\n\",np.matmul(d1,d2))\n",
        "print(\"dot\\n\",np.dot(d1,d2))"
      ],
      "metadata": {
        "colab": {
          "base_uri": "https://localhost:8080/"
        },
        "id": "pBW5NpwNFDMr",
        "outputId": "27ec4e95-3ee9-46c5-b586-74c48891b091"
      },
      "execution_count": null,
      "outputs": [
        {
          "output_type": "stream",
          "name": "stdout",
          "text": [
            "[[ 6  8]\n",
            " [10 12]]\n",
            "[[-4 -4]\n",
            " [-4 -4]]\n",
            "[[0.2        0.33333333]\n",
            " [0.42857143 0.5       ]]\n",
            "-------\n",
            "*\n",
            " [[ 5 12]\n",
            " [21 32]]\n",
            "multiply\n",
            " [[ 5 12]\n",
            " [21 32]]\n",
            "-------\n",
            "@\n",
            " [[19 22]\n",
            " [43 50]]\n",
            "matmul\n",
            " [[19 22]\n",
            " [43 50]]\n",
            "dot\n",
            " [[19 22]\n",
            " [43 50]]\n"
          ]
        }
      ]
    },
    {
      "cell_type": "markdown",
      "source": [
        "## 陣列與數字間四則運算"
      ],
      "metadata": {
        "id": "BCWOjm2aF4Db"
      }
    },
    {
      "cell_type": "code",
      "source": [
        "data = np.arange(8).reshape(2,4)\n",
        "number = 2\n",
        "print(data)\n",
        "print(\"+\\n\",data+number)\n",
        "print(\"-\\n\",data-number)\n",
        "print(\"*\\n\",data*number)\n",
        "print(\"/\\n\",data/number)"
      ],
      "metadata": {
        "colab": {
          "base_uri": "https://localhost:8080/"
        },
        "id": "BQ4XV5BFFvRr",
        "outputId": "7dc63a5f-3e5e-409e-ec57-7c31414f2409"
      },
      "execution_count": null,
      "outputs": [
        {
          "output_type": "stream",
          "name": "stdout",
          "text": [
            "[[0 1 2 3]\n",
            " [4 5 6 7]]\n",
            "+\n",
            " [[2 3 4 5]\n",
            " [6 7 8 9]]\n",
            "-\n",
            " [[-2 -1  0  1]\n",
            " [ 2  3  4  5]]\n",
            "*\n",
            " [[ 0  2  4  6]\n",
            " [ 8 10 12 14]]\n",
            "/\n",
            " [[0.  0.5 1.  1.5]\n",
            " [2.  2.5 3.  3.5]]\n"
          ]
        }
      ]
    },
    {
      "cell_type": "markdown",
      "source": [
        "## 最大、最小、平均、加總、相乘、標準差"
      ],
      "metadata": {
        "id": "P1ePYMCUHRQs"
      }
    },
    {
      "cell_type": "code",
      "source": [
        "data = np.arange(1,10)\n",
        "print(data.max())\n",
        "print(data.min())\n",
        "print(data.mean())  #平均\n",
        "print(data.sum())   #所有元素加總\n",
        "print(data.prod())  #所有元素相乘\n",
        "print(data.std())   #標準差"
      ],
      "metadata": {
        "colab": {
          "base_uri": "https://localhost:8080/"
        },
        "id": "vB5skO5rHfEF",
        "outputId": "4dfbbe20-6b8d-4b46-f8b9-3d28ce36a251"
      },
      "execution_count": null,
      "outputs": [
        {
          "output_type": "stream",
          "name": "stdout",
          "text": [
            "9\n",
            "1\n",
            "5.0\n",
            "45\n",
            "362880\n",
            "2.581988897471611\n"
          ]
        }
      ]
    },
    {
      "cell_type": "markdown",
      "source": [
        "## 反矩陣、四捨五入"
      ],
      "metadata": {
        "id": "D-x4qQOOT9pc"
      }
    },
    {
      "cell_type": "code",
      "source": [
        "arr = np.array([\n",
        "    [1,2,3],\n",
        "    [2,9,3],\n",
        "    [1,0,4]\n",
        "])\n",
        "print(np.linalg.inv(arr))\n",
        "print(\"相乘應為單位矩陣，但好像不是那麼一回事???\")\n",
        "newarr = np.matmul(arr, np.linalg.inv(arr))\n",
        "print(newarr)\n",
        "# 仔細觀察 3.55271368e-15 -1.77635684e-15 ，你會發現是10^-15這種很小的值 => 我猜測是電腦浮點數乘法的計算誤差\n",
        "# 如果你去手算np.matmul(arr, np.linalg.inv(arr)) 應該會發現是單位矩陣沒錯\n",
        "print(\"四捨五入 Round\")\n",
        "print(np.around(newarr))    #四捨五入到整數位\n",
        "print(np.around(newarr,14))  #四捨五入到小數點第14位\n",
        "print(np.around(newarr,15))  #四捨五入到小數點第15位"
      ],
      "metadata": {
        "colab": {
          "base_uri": "https://localhost:8080/"
        },
        "id": "jabwtA6jUAvN",
        "outputId": "b8c8a726-46a2-452c-c54c-67ebad5cf60d"
      },
      "execution_count": null,
      "outputs": [
        {
          "output_type": "stream",
          "name": "stdout",
          "text": [
            "[[-36.   8.  21.]\n",
            " [  5.  -1.  -3.]\n",
            " [  9.  -2.  -5.]]\n",
            "相乘應為單位矩陣，但好像不是那麼一回事???\n",
            "[[ 1.00000000e+00  0.00000000e+00  0.00000000e+00]\n",
            " [ 3.55271368e-15  1.00000000e+00 -1.77635684e-15]\n",
            " [ 0.00000000e+00  0.00000000e+00  1.00000000e+00]]\n",
            "四捨五入 Round\n",
            "[[ 1.  0.  0.]\n",
            " [ 0.  1. -0.]\n",
            " [ 0.  0.  1.]]\n",
            "[[ 1.  0.  0.]\n",
            " [ 0.  1. -0.]\n",
            " [ 0.  0.  1.]]\n",
            "[[ 1.e+00  0.e+00  0.e+00]\n",
            " [ 4.e-15  1.e+00 -2.e-15]\n",
            " [ 0.e+00  0.e+00  1.e+00]]\n"
          ]
        }
      ]
    }
  ]
}