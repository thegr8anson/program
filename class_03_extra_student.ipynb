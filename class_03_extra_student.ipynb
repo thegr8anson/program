{
 "cells": [
  {
   "cell_type": "markdown",
   "metadata": {},
   "source": [
    "# Class Extra: 爬蟲"
   ]
  },
  {
   "cell_type": "markdown",
   "metadata": {},
   "source": [
    "## 重要!!!  \n",
    "這堂課請額外開一個.py檔來跑程式 切勿直接執行本教材上的範例"
   ]
  },
  {
   "cell_type": "markdown",
   "metadata": {},
   "source": [
    "### Step 1: 更新Chrome / FireFox"
   ]
  },
  {
   "cell_type": "markdown",
   "metadata": {},
   "source": [
    "### Step 2: pip install webdriver_auto_update 並執行下列程式"
   ]
  },
  {
   "cell_type": "code",
   "execution_count": null,
   "metadata": {},
   "outputs": [],
   "source": [
    "from webdriver_auto_update.webdriver_manager import WebDriverManager\n",
    "driver_directory = \"./\"\n",
    "driver_manager = WebDriverManager(driver_directory)\n",
    "driver_manager.main()"
   ]
  },
  {
   "cell_type": "markdown",
   "metadata": {},
   "source": [
    "### Step 3: pip install selenium requests bs4  \n",
    "request: 發送 http 請求，並獲得網頁內容  \n",
    "BeautifulSoup4: 解析 HTML 以提取內容  \n",
    "selenium: 模擬使用者透過瀏覽器瀏覽網站，並對網頁上的元素進行操作與解析"
   ]
  },
  {
   "cell_type": "markdown",
   "metadata": {},
   "source": [
    "## 靜態爬蟲\n",
    "所謂的「靜態」，是指單純取得目標網站上的 HTML (偶爾會有 css 或 javascript 或 php)  \n",
    "靜態爬蟲做的就是從這坨字元中取得需要的資料"
   ]
  },
  {
   "cell_type": "code",
   "execution_count": null,
   "metadata": {},
   "outputs": [],
   "source": [
    "import requests\n",
    "from bs4 import BeautifulSoup as bs4"
   ]
  },
  {
   "cell_type": "code",
   "execution_count": null,
   "metadata": {},
   "outputs": [],
   "source": [
    "url = \"https://www.nsysu.edu.tw/p/422-1000-1314.php?Lang=zh-tw\"\n",
    "response = requests.get(url, verify=False)"
   ]
  },
  {
   "cell_type": "code",
   "execution_count": null,
   "metadata": {},
   "outputs": [],
   "source": [
    "soup = bs4(response.text, \"html.parser\")\n",
    "data = soup.select('div.minner section div table tbody tr div.d-txt')"
   ]
  },
  {
   "cell_type": "code",
   "execution_count": null,
   "metadata": {},
   "outputs": [],
   "source": [
    "previous = \"\"\n",
    "print(\"\\n以下是所有最新公告的第一頁:\")\n",
    "count = 0\n",
    "for i in range(1, len(data), 3):\n",
    "    info = f\"{data[i - 1].text.replace(\"\\n\", \"\").replace(\"\\t\", \"\")}  {data[i].text.replace(\"\\n\", \"\").replace(\"\\t\", \"\")}\"\n",
    "    if info == previous:\n",
    "        print(\"\\n----------------------------------------------過去----------------------------------------------\\n\")\n",
    "    print(info)\n",
    "    count += 1\n",
    "if count != 0:\n",
    "    print(\"\\n\")\n",
    "print(f\"共 {count} 筆資料\\n\")"
   ]
  },
  {
   "cell_type": "markdown",
   "metadata": {},
   "source": [
    "## 動態爬蟲\n",
    "「動態」代表可以跟網頁的物件進行互動，像是輸入文字、按按鈕、滾動頁面等"
   ]
  },
  {
   "cell_type": "code",
   "execution_count": null,
   "metadata": {},
   "outputs": [],
   "source": [
    "from selenium import webdriver\n",
    "from selenium.webdriver.chrome.service import Service\n",
    "from selenium.webdriver.chrome.options import Options\n",
    "import time\n",
    "from selenium.webdriver.common.by import By\n",
    "from selenium.webdriver.common.keys import Keys"
   ]
  },
  {
   "cell_type": "code",
   "execution_count": null,
   "metadata": {},
   "outputs": [],
   "source": [
    "service = Service(executable_path=\"chromedriver.exe\")\n",
    "options = Options()\n",
    "# options.add_argument(\"--headless\")\n",
    "# options.add_argument(\"--incognito\")"
   ]
  },
  {
   "cell_type": "code",
   "execution_count": null,
   "metadata": {},
   "outputs": [],
   "source": [
    "driver = webdriver.Chrome(service=service, options=options)\n",
    "driver.get(\"https://www.youtube.com/\")\n",
    "time.sleep(2)\n",
    "search_bar = driver.find_element(By.CSS_SELECTOR, \"#center > yt-searchbox > div.ytSearchboxComponentInputBox > form > input\")\n",
    "search_bar.send_keys(\"Lies of P Lisrim\")\n",
    "search_button = driver.find_element(By.CSS_SELECTOR, \"#center > yt-searchbox > button\").click()\n",
    "# search_bar.send_keys(Keys.ENTER)\n",
    "time.sleep(10)\n",
    "driver.quit()"
   ]
  },
  {
   "cell_type": "markdown",
   "metadata": {},
   "source": [
    "## 練習時間!\n",
    "[試試破解這個吧](https://drive.google.com/drive/u/0/folders/1yNhaVXJ8F3KF-3BoP-Wl-m-9RAaF-Y8p)  "
   ]
  },
  {
   "cell_type": "markdown",
   "metadata": {},
   "source": [
    "提示1: 密碼是4個數字組成的(當然，可能會包含0)  \n",
    "提示2: 每次輸入密碼後給他1秒(或更多)的時間確認密碼是否正確  \n",
    "提示3: 善用 try...except..."
   ]
  },
  {
   "cell_type": "code",
   "execution_count": null,
   "metadata": {},
   "outputs": [],
   "source": []
  }
 ],
 "metadata": {
  "kernelspec": {
   "display_name": "Python 3",
   "language": "python",
   "name": "python3"
  },
  "language_info": {
   "codemirror_mode": {
    "name": "ipython",
    "version": 3
   },
   "file_extension": ".py",
   "mimetype": "text/x-python",
   "name": "python",
   "nbconvert_exporter": "python",
   "pygments_lexer": "ipython3",
   "version": "3.12.7"
  }
 },
 "nbformat": 4,
 "nbformat_minor": 2
}
